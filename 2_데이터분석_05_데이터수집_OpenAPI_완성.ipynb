{
  "cells": [
    {
      "cell_type": "markdown",
      "metadata": {
        "id": "view-in-github",
        "colab_type": "text"
      },
      "source": [
        "<a href=\"https://colab.research.google.com/github/ParkGeunHae/miniproject2/blob/main/2_%EB%8D%B0%EC%9D%B4%ED%84%B0%EB%B6%84%EC%84%9D_05_%EB%8D%B0%EC%9D%B4%ED%84%B0%EC%88%98%EC%A7%91_OpenAPI_%EC%99%84%EC%84%B1.ipynb\" target=\"_parent\"><img src=\"https://colab.research.google.com/assets/colab-badge.svg\" alt=\"Open In Colab\"/></a>"
      ]
    },
    {
      "cell_type": "markdown",
      "id": "46265587",
      "metadata": {
        "id": "46265587"
      },
      "source": [
        "# 데이터 분석"
      ]
    },
    {
      "cell_type": "markdown",
      "id": "go-R3kQSaSrk",
      "metadata": {
        "id": "go-R3kQSaSrk"
      },
      "source": [
        "## 5. OpenAPI를 이용한 데이터 수집"
      ]
    },
    {
      "cell_type": "markdown",
      "id": "0b715273",
      "metadata": {
        "id": "0b715273"
      },
      "source": [
        "- <a href=\"#1)OpenAPI통한데이터수집\">1) OpenAPI 통한 데이터 수집</a>\n",
        "- <a href=\"#2)한글텍스트Cleansing\">2) 한글 텍스트 Cleansing</a>\n",
        "- <a href=\"#3)웹이미지수집하기\">3) 웹 이미지 수집하기</a>"
      ]
    },
    {
      "cell_type": "markdown",
      "id": "VGDzYiKZhR0U",
      "metadata": {
        "id": "VGDzYiKZhR0U"
      },
      "source": [
        "### #그래프에서 한글사용하는 방법\n",
        "- **(코랩에서)한글폰트 설치하기**"
      ]
    },
    {
      "cell_type": "code",
      "execution_count": null,
      "id": "hwAJP1nahhrF",
      "metadata": {
        "id": "hwAJP1nahhrF",
        "colab": {
          "base_uri": "https://localhost:8080/"
        },
        "outputId": "effebf3a-d2d4-4a2c-d39f-00b7c0446f3a"
      },
      "outputs": [
        {
          "output_type": "stream",
          "name": "stdout",
          "text": [
            "Reading package lists... Done\n",
            "Building dependency tree... Done\n",
            "Reading state information... Done\n",
            "The following NEW packages will be installed:\n",
            "  fonts-nanum\n",
            "0 upgraded, 1 newly installed, 0 to remove and 45 not upgraded.\n",
            "Need to get 10.3 MB of archives.\n",
            "After this operation, 34.1 MB of additional disk space will be used.\n",
            "Get:1 http://archive.ubuntu.com/ubuntu jammy/universe amd64 fonts-nanum all 20200506-1 [10.3 MB]\n",
            "Fetched 10.3 MB in 1s (20.1 MB/s)\n",
            "debconf: unable to initialize frontend: Dialog\n",
            "debconf: (No usable dialog-like program is installed, so the dialog based frontend cannot be used. at /usr/share/perl5/Debconf/FrontEnd/Dialog.pm line 78, <> line 1.)\n",
            "debconf: falling back to frontend: Readline\n",
            "debconf: unable to initialize frontend: Readline\n",
            "debconf: (This frontend requires a controlling tty.)\n",
            "debconf: falling back to frontend: Teletype\n",
            "dpkg-preconfigure: unable to re-open stdin: \n",
            "Selecting previously unselected package fonts-nanum.\n",
            "(Reading database ... 121752 files and directories currently installed.)\n",
            "Preparing to unpack .../fonts-nanum_20200506-1_all.deb ...\n",
            "Unpacking fonts-nanum (20200506-1) ...\n",
            "Setting up fonts-nanum (20200506-1) ...\n",
            "Processing triggers for fontconfig (2.13.1-4.2ubuntu5) ...\n",
            "/usr/share/fonts: caching, new cache contents: 0 fonts, 1 dirs\n",
            "/usr/share/fonts/truetype: caching, new cache contents: 0 fonts, 3 dirs\n",
            "/usr/share/fonts/truetype/humor-sans: caching, new cache contents: 1 fonts, 0 dirs\n",
            "/usr/share/fonts/truetype/liberation: caching, new cache contents: 16 fonts, 0 dirs\n",
            "/usr/share/fonts/truetype/nanum: caching, new cache contents: 12 fonts, 0 dirs\n",
            "/usr/local/share/fonts: caching, new cache contents: 0 fonts, 0 dirs\n",
            "/root/.local/share/fonts: skipping, no such directory\n",
            "/root/.fonts: skipping, no such directory\n",
            "/usr/share/fonts/truetype: skipping, looped directory detected\n",
            "/usr/share/fonts/truetype/humor-sans: skipping, looped directory detected\n",
            "/usr/share/fonts/truetype/liberation: skipping, looped directory detected\n",
            "/usr/share/fonts/truetype/nanum: skipping, looped directory detected\n",
            "/var/cache/fontconfig: cleaning cache directory\n",
            "/root/.cache/fontconfig: not cleaning non-existent cache directory\n",
            "/root/.fontconfig: not cleaning non-existent cache directory\n",
            "fc-cache: succeeded\n"
          ]
        }
      ],
      "source": [
        "!sudo apt-get install -y fonts-nanum\n",
        "!sudo fc-cache -fv\n",
        "!rm ~/.cache/matplotlib -rf\n",
        "\n",
        "# 코랩에서 위 코드를 실행시킨 후  반드시 코랩 메뉴: \"런타임>런타임 다시 시작\" 합니다."
      ]
    },
    {
      "cell_type": "markdown",
      "id": "4YrZX8Hf1hQ8",
      "metadata": {
        "id": "4YrZX8Hf1hQ8"
      },
      "source": [
        "- **한글 폰트 지정하기**"
      ]
    },
    {
      "cell_type": "markdown",
      "id": "CfuS0iwGhhee",
      "metadata": {
        "id": "CfuS0iwGhhee"
      },
      "source": []
    },
    {
      "cell_type": "code",
      "execution_count": null,
      "id": "ld3tL_Sh1gXu",
      "metadata": {
        "id": "ld3tL_Sh1gXu"
      },
      "outputs": [],
      "source": [
        "# 코랩에서 한글 폰트 종류와 이름이 win과 다를 수 있다!!!\n",
        "# 코랩: NanumGothic, 윈도우: Malgun Gothic\n",
        "import matplotlib.pyplot as plt\n",
        "plt.rcParams.update({'font.family': 'NanumGothic',\n",
        "                     'font.size': 12,\n",
        "                     'figure.figsize': (6, 4),\n",
        "                     'axes.unicode_minus':  False }) # 폰트 설정"
      ]
    },
    {
      "cell_type": "markdown",
      "id": "6d0c04ae",
      "metadata": {
        "id": "6d0c04ae"
      },
      "source": [
        "---"
      ]
    },
    {
      "cell_type": "markdown",
      "id": "f4f12800",
      "metadata": {
        "id": "f4f12800"
      },
      "source": [
        "### <a name=\"1)OpenAPI통한데이터수집\">1) OpenAPI 통한 데이터 수집</a>"
      ]
    },
    {
      "cell_type": "markdown",
      "id": "db60e9f8",
      "metadata": {
        "id": "db60e9f8"
      },
      "source": [
        "#### 1.네이버 OpenAPI 신청하기\n",
        "* 네이버 검색(책, 뉴스, 쇼핑)\n",
        "    - 네이버 OpenAPI 소개: https://developers.naver.com/products/intro/plan/\n",
        "    - 개발 가이드 보기: https://developers.naver.com/docs/serviceapi/search/news\n",
        "    - OpenAPI 신청하기: https://developers.naver.com/apps/#/register"
      ]
    },
    {
      "cell_type": "markdown",
      "id": "6093ed93",
      "metadata": {
        "id": "6093ed93"
      },
      "source": [
        "#### 2.네이버 OpenAPI 사용하기\n",
        "* 검색\n",
        "    - 1.책 검색\n",
        "    - 2.뉴스 검색\n",
        "    - 3.쇼핑 검색"
      ]
    },
    {
      "cell_type": "markdown",
      "id": "0245934c",
      "metadata": {
        "id": "0245934c"
      },
      "source": [
        "#### [실습] : 네이버 검색 API 사용하여 데이터 수집하기"
      ]
    },
    {
      "cell_type": "code",
      "execution_count": null,
      "id": "51bbff90",
      "metadata": {
        "id": "51bbff90",
        "colab": {
          "base_uri": "https://localhost:8080/"
        },
        "outputId": "c9c84975-0545-48e7-8b8e-41f3e6493cfd"
      },
      "outputs": [
        {
          "output_type": "stream",
          "name": "stdout",
          "text": [
            "Requirement already satisfied: requests in /usr/local/lib/python3.10/dist-packages (2.31.0)\n",
            "Requirement already satisfied: charset-normalizer<4,>=2 in /usr/local/lib/python3.10/dist-packages (from requests) (3.3.2)\n",
            "Requirement already satisfied: idna<4,>=2.5 in /usr/local/lib/python3.10/dist-packages (from requests) (3.7)\n",
            "Requirement already satisfied: urllib3<3,>=1.21.1 in /usr/local/lib/python3.10/dist-packages (from requests) (2.0.7)\n",
            "Requirement already satisfied: certifi>=2017.4.17 in /usr/local/lib/python3.10/dist-packages (from requests) (2024.2.2)\n"
          ]
        }
      ],
      "source": [
        "# 정적 크롤링을 위한 requests 설치\n",
        "!pip install requests"
      ]
    },
    {
      "cell_type": "code",
      "execution_count": 43,
      "id": "03fe1289",
      "metadata": {
        "id": "03fe1289",
        "colab": {
          "base_uri": "https://localhost:8080/",
          "height": 840
        },
        "outputId": "424a392e-4f35-49e7-902f-0d71b71fa321"
      },
      "outputs": [
        {
          "output_type": "stream",
          "name": "stdout",
          "text": [
            "-----------------------------\n",
            "    네이버 검색 대상입니다.\n",
            "      1.doc,  2.news,  3.encyc, 4.blog, 5.cafearticle, 6.지식iN, 7.이미지\n",
            "    -----------------------------\n",
            "번호를 선택하세요.[1:전문자료, 2:뉴스, 3:백과사전, 4.블로그, 5.카페글, 6.지식iN, 7.이미지]7\n",
            "image 검색할 검색어를 입력하세요: 꼬마물떼새\n",
            "[2024년04월27일 05시42분29초] Url Request Success\n",
            "HTTP Error 400: Bad Request\n",
            "[2024년04월27일 05시42분29초] Error for URL : https://openapi.naver.com/v1/search/image.json?query=%EA%BC%AC%EB%A7%88%EB%AC%BC%EB%96%BC%EC%83%88&start=101&display=7148\n",
            "가져온 데이터 : 100 건\n",
            "./naver_image_꼬마물떼새.csv SAVED\n"
          ]
        },
        {
          "output_type": "execute_result",
          "data": {
            "text/plain": [
              "                                                   제목  \\\n",
              "0                                               꼬마물떼새   \n",
              "1                                               꼬마물떼새   \n",
              "2                                      저어새와친구들 시민모니터링   \n",
              "3                                               꼬마물떼새   \n",
              "4                                               꼬마물떼새   \n",
              "..                                                ...   \n",
              "95                                           흰죽지꼬마물떼새   \n",
              "96                                              꼬마물떼새   \n",
              "97  꼬마물떼새 from 400 10 Ústí nad Labem, Česko on 202...   \n",
              "98                                       둥지 지키는 꼬마물떼새   \n",
              "99                                              꼬마물떼새   \n",
              "\n",
              "                                                   링크  \\\n",
              "0   https://upload.wikimedia.org/wikipedia/commons...   \n",
              "1   https://naturing-s3-tokyo.s3-ap-northeast-1.am...   \n",
              "2   https://dnwm9zq2dr65n.cloudfront.net/productio...   \n",
              "3   https://dnwm9zq2dr65n.cloudfront.net/productio...   \n",
              "4   https://naturing-s3-tokyo.s3-ap-northeast-1.am...   \n",
              "..                                                ...   \n",
              "95  https://naturing-s3-tokyo.s3-ap-northeast-1.am...   \n",
              "96  https://naturing-s3-tokyo.s3-ap-northeast-1.am...   \n",
              "97  https://inaturalist-open-data.s3.amazonaws.com...   \n",
              "98  http://imgnews.naver.net/image/421/2019/05/23/...   \n",
              "99  https://naturing-s3-tokyo.s3-ap-northeast-1.am...   \n",
              "\n",
              "                                                  썸네일 이미지세로크기 이지미가로크기  \n",
              "0   https://search.pstatic.net/sunny/?type=b150&sr...     441     650  \n",
              "1   https://search.pstatic.net/sunny/?type=b150&sr...     600     600  \n",
              "2   https://search.pstatic.net/sunny/?type=b150&sr...     600     600  \n",
              "3   https://search.pstatic.net/sunny/?type=b150&sr...     600     600  \n",
              "4   https://search.pstatic.net/sunny/?type=b150&sr...     600     600  \n",
              "..                                                ...     ...     ...  \n",
              "95  https://search.pstatic.net/sunny/?type=b150&sr...     600     600  \n",
              "96  https://search.pstatic.net/sunny/?type=b150&sr...     600     600  \n",
              "97  https://search.pstatic.net/sunny/?type=b150&sr...    1024    1024  \n",
              "98  https://search.pstatic.net/common/?type=b150&s...     932    1400  \n",
              "99  https://search.pstatic.net/sunny/?type=b150&sr...     600     600  \n",
              "\n",
              "[100 rows x 5 columns]"
            ],
            "text/html": [
              "\n",
              "  <div id=\"df-e132d6e6-0d49-4a54-a56f-fbbfdcc6ea53\" class=\"colab-df-container\">\n",
              "    <div>\n",
              "<style scoped>\n",
              "    .dataframe tbody tr th:only-of-type {\n",
              "        vertical-align: middle;\n",
              "    }\n",
              "\n",
              "    .dataframe tbody tr th {\n",
              "        vertical-align: top;\n",
              "    }\n",
              "\n",
              "    .dataframe thead th {\n",
              "        text-align: right;\n",
              "    }\n",
              "</style>\n",
              "<table border=\"1\" class=\"dataframe\">\n",
              "  <thead>\n",
              "    <tr style=\"text-align: right;\">\n",
              "      <th></th>\n",
              "      <th>제목</th>\n",
              "      <th>링크</th>\n",
              "      <th>썸네일</th>\n",
              "      <th>이미지세로크기</th>\n",
              "      <th>이지미가로크기</th>\n",
              "    </tr>\n",
              "  </thead>\n",
              "  <tbody>\n",
              "    <tr>\n",
              "      <th>0</th>\n",
              "      <td>꼬마물떼새</td>\n",
              "      <td>https://upload.wikimedia.org/wikipedia/commons...</td>\n",
              "      <td>https://search.pstatic.net/sunny/?type=b150&amp;sr...</td>\n",
              "      <td>441</td>\n",
              "      <td>650</td>\n",
              "    </tr>\n",
              "    <tr>\n",
              "      <th>1</th>\n",
              "      <td>꼬마물떼새</td>\n",
              "      <td>https://naturing-s3-tokyo.s3-ap-northeast-1.am...</td>\n",
              "      <td>https://search.pstatic.net/sunny/?type=b150&amp;sr...</td>\n",
              "      <td>600</td>\n",
              "      <td>600</td>\n",
              "    </tr>\n",
              "    <tr>\n",
              "      <th>2</th>\n",
              "      <td>저어새와친구들 시민모니터링</td>\n",
              "      <td>https://dnwm9zq2dr65n.cloudfront.net/productio...</td>\n",
              "      <td>https://search.pstatic.net/sunny/?type=b150&amp;sr...</td>\n",
              "      <td>600</td>\n",
              "      <td>600</td>\n",
              "    </tr>\n",
              "    <tr>\n",
              "      <th>3</th>\n",
              "      <td>꼬마물떼새</td>\n",
              "      <td>https://dnwm9zq2dr65n.cloudfront.net/productio...</td>\n",
              "      <td>https://search.pstatic.net/sunny/?type=b150&amp;sr...</td>\n",
              "      <td>600</td>\n",
              "      <td>600</td>\n",
              "    </tr>\n",
              "    <tr>\n",
              "      <th>4</th>\n",
              "      <td>꼬마물떼새</td>\n",
              "      <td>https://naturing-s3-tokyo.s3-ap-northeast-1.am...</td>\n",
              "      <td>https://search.pstatic.net/sunny/?type=b150&amp;sr...</td>\n",
              "      <td>600</td>\n",
              "      <td>600</td>\n",
              "    </tr>\n",
              "    <tr>\n",
              "      <th>...</th>\n",
              "      <td>...</td>\n",
              "      <td>...</td>\n",
              "      <td>...</td>\n",
              "      <td>...</td>\n",
              "      <td>...</td>\n",
              "    </tr>\n",
              "    <tr>\n",
              "      <th>95</th>\n",
              "      <td>흰죽지꼬마물떼새</td>\n",
              "      <td>https://naturing-s3-tokyo.s3-ap-northeast-1.am...</td>\n",
              "      <td>https://search.pstatic.net/sunny/?type=b150&amp;sr...</td>\n",
              "      <td>600</td>\n",
              "      <td>600</td>\n",
              "    </tr>\n",
              "    <tr>\n",
              "      <th>96</th>\n",
              "      <td>꼬마물떼새</td>\n",
              "      <td>https://naturing-s3-tokyo.s3-ap-northeast-1.am...</td>\n",
              "      <td>https://search.pstatic.net/sunny/?type=b150&amp;sr...</td>\n",
              "      <td>600</td>\n",
              "      <td>600</td>\n",
              "    </tr>\n",
              "    <tr>\n",
              "      <th>97</th>\n",
              "      <td>꼬마물떼새 from 400 10 Ústí nad Labem, Česko on 202...</td>\n",
              "      <td>https://inaturalist-open-data.s3.amazonaws.com...</td>\n",
              "      <td>https://search.pstatic.net/sunny/?type=b150&amp;sr...</td>\n",
              "      <td>1024</td>\n",
              "      <td>1024</td>\n",
              "    </tr>\n",
              "    <tr>\n",
              "      <th>98</th>\n",
              "      <td>둥지 지키는 꼬마물떼새</td>\n",
              "      <td>http://imgnews.naver.net/image/421/2019/05/23/...</td>\n",
              "      <td>https://search.pstatic.net/common/?type=b150&amp;s...</td>\n",
              "      <td>932</td>\n",
              "      <td>1400</td>\n",
              "    </tr>\n",
              "    <tr>\n",
              "      <th>99</th>\n",
              "      <td>꼬마물떼새</td>\n",
              "      <td>https://naturing-s3-tokyo.s3-ap-northeast-1.am...</td>\n",
              "      <td>https://search.pstatic.net/sunny/?type=b150&amp;sr...</td>\n",
              "      <td>600</td>\n",
              "      <td>600</td>\n",
              "    </tr>\n",
              "  </tbody>\n",
              "</table>\n",
              "<p>100 rows × 5 columns</p>\n",
              "</div>\n",
              "    <div class=\"colab-df-buttons\">\n",
              "\n",
              "  <div class=\"colab-df-container\">\n",
              "    <button class=\"colab-df-convert\" onclick=\"convertToInteractive('df-e132d6e6-0d49-4a54-a56f-fbbfdcc6ea53')\"\n",
              "            title=\"Convert this dataframe to an interactive table.\"\n",
              "            style=\"display:none;\">\n",
              "\n",
              "  <svg xmlns=\"http://www.w3.org/2000/svg\" height=\"24px\" viewBox=\"0 -960 960 960\">\n",
              "    <path d=\"M120-120v-720h720v720H120Zm60-500h600v-160H180v160Zm220 220h160v-160H400v160Zm0 220h160v-160H400v160ZM180-400h160v-160H180v160Zm440 0h160v-160H620v160ZM180-180h160v-160H180v160Zm440 0h160v-160H620v160Z\"/>\n",
              "  </svg>\n",
              "    </button>\n",
              "\n",
              "  <style>\n",
              "    .colab-df-container {\n",
              "      display:flex;\n",
              "      gap: 12px;\n",
              "    }\n",
              "\n",
              "    .colab-df-convert {\n",
              "      background-color: #E8F0FE;\n",
              "      border: none;\n",
              "      border-radius: 50%;\n",
              "      cursor: pointer;\n",
              "      display: none;\n",
              "      fill: #1967D2;\n",
              "      height: 32px;\n",
              "      padding: 0 0 0 0;\n",
              "      width: 32px;\n",
              "    }\n",
              "\n",
              "    .colab-df-convert:hover {\n",
              "      background-color: #E2EBFA;\n",
              "      box-shadow: 0px 1px 2px rgba(60, 64, 67, 0.3), 0px 1px 3px 1px rgba(60, 64, 67, 0.15);\n",
              "      fill: #174EA6;\n",
              "    }\n",
              "\n",
              "    .colab-df-buttons div {\n",
              "      margin-bottom: 4px;\n",
              "    }\n",
              "\n",
              "    [theme=dark] .colab-df-convert {\n",
              "      background-color: #3B4455;\n",
              "      fill: #D2E3FC;\n",
              "    }\n",
              "\n",
              "    [theme=dark] .colab-df-convert:hover {\n",
              "      background-color: #434B5C;\n",
              "      box-shadow: 0px 1px 3px 1px rgba(0, 0, 0, 0.15);\n",
              "      filter: drop-shadow(0px 1px 2px rgba(0, 0, 0, 0.3));\n",
              "      fill: #FFFFFF;\n",
              "    }\n",
              "  </style>\n",
              "\n",
              "    <script>\n",
              "      const buttonEl =\n",
              "        document.querySelector('#df-e132d6e6-0d49-4a54-a56f-fbbfdcc6ea53 button.colab-df-convert');\n",
              "      buttonEl.style.display =\n",
              "        google.colab.kernel.accessAllowed ? 'block' : 'none';\n",
              "\n",
              "      async function convertToInteractive(key) {\n",
              "        const element = document.querySelector('#df-e132d6e6-0d49-4a54-a56f-fbbfdcc6ea53');\n",
              "        const dataTable =\n",
              "          await google.colab.kernel.invokeFunction('convertToInteractive',\n",
              "                                                    [key], {});\n",
              "        if (!dataTable) return;\n",
              "\n",
              "        const docLinkHtml = 'Like what you see? Visit the ' +\n",
              "          '<a target=\"_blank\" href=https://colab.research.google.com/notebooks/data_table.ipynb>data table notebook</a>'\n",
              "          + ' to learn more about interactive tables.';\n",
              "        element.innerHTML = '';\n",
              "        dataTable['output_type'] = 'display_data';\n",
              "        await google.colab.output.renderOutput(dataTable, element);\n",
              "        const docLink = document.createElement('div');\n",
              "        docLink.innerHTML = docLinkHtml;\n",
              "        element.appendChild(docLink);\n",
              "      }\n",
              "    </script>\n",
              "  </div>\n",
              "\n",
              "\n",
              "<div id=\"df-69db78b2-ce71-493b-ac6a-c092f0d3b80b\">\n",
              "  <button class=\"colab-df-quickchart\" onclick=\"quickchart('df-69db78b2-ce71-493b-ac6a-c092f0d3b80b')\"\n",
              "            title=\"Suggest charts\"\n",
              "            style=\"display:none;\">\n",
              "\n",
              "<svg xmlns=\"http://www.w3.org/2000/svg\" height=\"24px\"viewBox=\"0 0 24 24\"\n",
              "     width=\"24px\">\n",
              "    <g>\n",
              "        <path d=\"M19 3H5c-1.1 0-2 .9-2 2v14c0 1.1.9 2 2 2h14c1.1 0 2-.9 2-2V5c0-1.1-.9-2-2-2zM9 17H7v-7h2v7zm4 0h-2V7h2v10zm4 0h-2v-4h2v4z\"/>\n",
              "    </g>\n",
              "</svg>\n",
              "  </button>\n",
              "\n",
              "<style>\n",
              "  .colab-df-quickchart {\n",
              "      --bg-color: #E8F0FE;\n",
              "      --fill-color: #1967D2;\n",
              "      --hover-bg-color: #E2EBFA;\n",
              "      --hover-fill-color: #174EA6;\n",
              "      --disabled-fill-color: #AAA;\n",
              "      --disabled-bg-color: #DDD;\n",
              "  }\n",
              "\n",
              "  [theme=dark] .colab-df-quickchart {\n",
              "      --bg-color: #3B4455;\n",
              "      --fill-color: #D2E3FC;\n",
              "      --hover-bg-color: #434B5C;\n",
              "      --hover-fill-color: #FFFFFF;\n",
              "      --disabled-bg-color: #3B4455;\n",
              "      --disabled-fill-color: #666;\n",
              "  }\n",
              "\n",
              "  .colab-df-quickchart {\n",
              "    background-color: var(--bg-color);\n",
              "    border: none;\n",
              "    border-radius: 50%;\n",
              "    cursor: pointer;\n",
              "    display: none;\n",
              "    fill: var(--fill-color);\n",
              "    height: 32px;\n",
              "    padding: 0;\n",
              "    width: 32px;\n",
              "  }\n",
              "\n",
              "  .colab-df-quickchart:hover {\n",
              "    background-color: var(--hover-bg-color);\n",
              "    box-shadow: 0 1px 2px rgba(60, 64, 67, 0.3), 0 1px 3px 1px rgba(60, 64, 67, 0.15);\n",
              "    fill: var(--button-hover-fill-color);\n",
              "  }\n",
              "\n",
              "  .colab-df-quickchart-complete:disabled,\n",
              "  .colab-df-quickchart-complete:disabled:hover {\n",
              "    background-color: var(--disabled-bg-color);\n",
              "    fill: var(--disabled-fill-color);\n",
              "    box-shadow: none;\n",
              "  }\n",
              "\n",
              "  .colab-df-spinner {\n",
              "    border: 2px solid var(--fill-color);\n",
              "    border-color: transparent;\n",
              "    border-bottom-color: var(--fill-color);\n",
              "    animation:\n",
              "      spin 1s steps(1) infinite;\n",
              "  }\n",
              "\n",
              "  @keyframes spin {\n",
              "    0% {\n",
              "      border-color: transparent;\n",
              "      border-bottom-color: var(--fill-color);\n",
              "      border-left-color: var(--fill-color);\n",
              "    }\n",
              "    20% {\n",
              "      border-color: transparent;\n",
              "      border-left-color: var(--fill-color);\n",
              "      border-top-color: var(--fill-color);\n",
              "    }\n",
              "    30% {\n",
              "      border-color: transparent;\n",
              "      border-left-color: var(--fill-color);\n",
              "      border-top-color: var(--fill-color);\n",
              "      border-right-color: var(--fill-color);\n",
              "    }\n",
              "    40% {\n",
              "      border-color: transparent;\n",
              "      border-right-color: var(--fill-color);\n",
              "      border-top-color: var(--fill-color);\n",
              "    }\n",
              "    60% {\n",
              "      border-color: transparent;\n",
              "      border-right-color: var(--fill-color);\n",
              "    }\n",
              "    80% {\n",
              "      border-color: transparent;\n",
              "      border-right-color: var(--fill-color);\n",
              "      border-bottom-color: var(--fill-color);\n",
              "    }\n",
              "    90% {\n",
              "      border-color: transparent;\n",
              "      border-bottom-color: var(--fill-color);\n",
              "    }\n",
              "  }\n",
              "</style>\n",
              "\n",
              "  <script>\n",
              "    async function quickchart(key) {\n",
              "      const quickchartButtonEl =\n",
              "        document.querySelector('#' + key + ' button');\n",
              "      quickchartButtonEl.disabled = true;  // To prevent multiple clicks.\n",
              "      quickchartButtonEl.classList.add('colab-df-spinner');\n",
              "      try {\n",
              "        const charts = await google.colab.kernel.invokeFunction(\n",
              "            'suggestCharts', [key], {});\n",
              "      } catch (error) {\n",
              "        console.error('Error during call to suggestCharts:', error);\n",
              "      }\n",
              "      quickchartButtonEl.classList.remove('colab-df-spinner');\n",
              "      quickchartButtonEl.classList.add('colab-df-quickchart-complete');\n",
              "    }\n",
              "    (() => {\n",
              "      let quickchartButtonEl =\n",
              "        document.querySelector('#df-69db78b2-ce71-493b-ac6a-c092f0d3b80b button');\n",
              "      quickchartButtonEl.style.display =\n",
              "        google.colab.kernel.accessAllowed ? 'block' : 'none';\n",
              "    })();\n",
              "  </script>\n",
              "</div>\n",
              "\n",
              "  <div id=\"id_b9476e60-a58b-4f05-8690-681b4d1574a7\">\n",
              "    <style>\n",
              "      .colab-df-generate {\n",
              "        background-color: #E8F0FE;\n",
              "        border: none;\n",
              "        border-radius: 50%;\n",
              "        cursor: pointer;\n",
              "        display: none;\n",
              "        fill: #1967D2;\n",
              "        height: 32px;\n",
              "        padding: 0 0 0 0;\n",
              "        width: 32px;\n",
              "      }\n",
              "\n",
              "      .colab-df-generate:hover {\n",
              "        background-color: #E2EBFA;\n",
              "        box-shadow: 0px 1px 2px rgba(60, 64, 67, 0.3), 0px 1px 3px 1px rgba(60, 64, 67, 0.15);\n",
              "        fill: #174EA6;\n",
              "      }\n",
              "\n",
              "      [theme=dark] .colab-df-generate {\n",
              "        background-color: #3B4455;\n",
              "        fill: #D2E3FC;\n",
              "      }\n",
              "\n",
              "      [theme=dark] .colab-df-generate:hover {\n",
              "        background-color: #434B5C;\n",
              "        box-shadow: 0px 1px 3px 1px rgba(0, 0, 0, 0.15);\n",
              "        filter: drop-shadow(0px 1px 2px rgba(0, 0, 0, 0.3));\n",
              "        fill: #FFFFFF;\n",
              "      }\n",
              "    </style>\n",
              "    <button class=\"colab-df-generate\" onclick=\"generateWithVariable('df')\"\n",
              "            title=\"Generate code using this dataframe.\"\n",
              "            style=\"display:none;\">\n",
              "\n",
              "  <svg xmlns=\"http://www.w3.org/2000/svg\" height=\"24px\"viewBox=\"0 0 24 24\"\n",
              "       width=\"24px\">\n",
              "    <path d=\"M7,19H8.4L18.45,9,17,7.55,7,17.6ZM5,21V16.75L18.45,3.32a2,2,0,0,1,2.83,0l1.4,1.43a1.91,1.91,0,0,1,.58,1.4,1.91,1.91,0,0,1-.58,1.4L9.25,21ZM18.45,9,17,7.55Zm-12,3A5.31,5.31,0,0,0,4.9,8.1,5.31,5.31,0,0,0,1,6.5,5.31,5.31,0,0,0,4.9,4.9,5.31,5.31,0,0,0,6.5,1,5.31,5.31,0,0,0,8.1,4.9,5.31,5.31,0,0,0,12,6.5,5.46,5.46,0,0,0,6.5,12Z\"/>\n",
              "  </svg>\n",
              "    </button>\n",
              "    <script>\n",
              "      (() => {\n",
              "      const buttonEl =\n",
              "        document.querySelector('#id_b9476e60-a58b-4f05-8690-681b4d1574a7 button.colab-df-generate');\n",
              "      buttonEl.style.display =\n",
              "        google.colab.kernel.accessAllowed ? 'block' : 'none';\n",
              "\n",
              "      buttonEl.onclick = () => {\n",
              "        google.colab.notebook.generateWithVariable('df');\n",
              "      }\n",
              "      })();\n",
              "    </script>\n",
              "  </div>\n",
              "\n",
              "    </div>\n",
              "  </div>\n"
            ],
            "application/vnd.google.colaboratory.intrinsic+json": {
              "type": "dataframe",
              "variable_name": "df",
              "summary": "{\n  \"name\": \"df\",\n  \"rows\": 100,\n  \"fields\": [\n    {\n      \"column\": \"\\uc81c\\ubaa9\",\n      \"properties\": {\n        \"dtype\": \"string\",\n        \"num_unique_values\": 56,\n        \"samples\": [\n          \"\\uaf2c\\ub9c8\\ubb3c\\ub5bc\\uc0c8\",\n          \"\\uc870\\ub958 - \\uaf2c\\ub9c8\\ubb3c\\ub5bc\\uc0c8\",\n          \"\\uaf2c\\ub9c8\\ubb3c\\ub5bc\\uc0c8 from RSPB Saltholme on 2023\\ub144 06\\uc6d4 17\\uc77c (\\ud1a0) by sam mather \\u00b7 iNaturalist \\uaf2c\\ub9c8\\ubb3c\\ub5bc\\uc0c8 (Charadrius dubius)\"\n        ],\n        \"semantic_type\": \"\",\n        \"description\": \"\"\n      }\n    },\n    {\n      \"column\": \"\\ub9c1\\ud06c\",\n      \"properties\": {\n        \"dtype\": \"string\",\n        \"num_unique_values\": 100,\n        \"samples\": [\n          \"http://imgnews.naver.net/image/001/2015/05/28/PYH2015052808340006200_P2_99_20150528141446.jpg\",\n          \"https://dbscthumb-phinf.pstatic.net/5041_000_2/20190124133717626_SGNVHE9KG.jpg/ib68_750_i1.jpg?type=m4500_4500_fst\",\n          \"https://naturing-s3-tokyo.s3-ap-northeast-1.amazonaws.com/production/observation/2022/06/27/crop/10923-67m804.v81n.jpg\"\n        ],\n        \"semantic_type\": \"\",\n        \"description\": \"\"\n      }\n    },\n    {\n      \"column\": \"\\uc378\\ub124\\uc77c\",\n      \"properties\": {\n        \"dtype\": \"string\",\n        \"num_unique_values\": 100,\n        \"samples\": [\n          \"https://search.pstatic.net/common/?type=b150&src=http://imgnews.naver.net/image/001/2015/05/28/PYH2015052808340006200_P2_99_20150528141446.jpg\",\n          \"https://search.pstatic.net/common/?type=b150&src=https://dbscthumb-phinf.pstatic.net/5041_000_2/20190124133717626_SGNVHE9KG.jpg/ib68_750_i1.jpg?type=m4500_4500_fst\",\n          \"https://search.pstatic.net/sunny/?type=b150&src=https://naturing-s3-tokyo.s3-ap-northeast-1.amazonaws.com/production/observation/2022/06/27/crop/10923-67m804.v81n.jpg\"\n        ],\n        \"semantic_type\": \"\",\n        \"description\": \"\"\n      }\n    },\n    {\n      \"column\": \"\\uc774\\ubbf8\\uc9c0\\uc138\\ub85c\\ud06c\\uae30\",\n      \"properties\": {\n        \"dtype\": \"category\",\n        \"num_unique_values\": 39,\n        \"samples\": [\n          \"566\",\n          \"334\",\n          \"467\"\n        ],\n        \"semantic_type\": \"\",\n        \"description\": \"\"\n      }\n    },\n    {\n      \"column\": \"\\uc774\\uc9c0\\ubbf8\\uac00\\ub85c\\ud06c\\uae30\",\n      \"properties\": {\n        \"dtype\": \"category\",\n        \"num_unique_values\": 18,\n        \"samples\": [\n          \"650\",\n          \"600\",\n          \"1998\"\n        ],\n        \"semantic_type\": \"\",\n        \"description\": \"\"\n      }\n    }\n  ]\n}"
            }
          },
          "metadata": {},
          "execution_count": 43
        }
      ],
      "source": [
        "import os\n",
        "import sys\n",
        "import urllib.request\n",
        "import datetime\n",
        "import time\n",
        "import json\n",
        "import pandas as pd\n",
        "\n",
        "now = datetime.datetime.now()\n",
        "datas = []   #csv파일을 위한 변수\n",
        "\n",
        "client_id = 'NvRd1gqOqxMEJGZvgIMm'          # 자신의 client_id\n",
        "client_pw = 'Ju3jUS77fa'          # 자신의 client_secret\n",
        "PATH = '.'         # 수집 데이터 저장 폴더\n",
        "\n",
        "\n",
        "#[CODE 1]\n",
        "def get_RequestUrl(url):\n",
        "    req = urllib.request.Request(url)\n",
        "    req.add_header(\"X-Naver-Client-Id\", client_id)\n",
        "    req.add_header(\"X-Naver-Client-Secret\", client_pw)\n",
        "\n",
        "    try:\n",
        "        response = urllib.request.urlopen(req)\n",
        "        if response.getcode() == 200:\n",
        "            print(f\"[{now.strftime('%Y년%m월%d일 %H시%M분%S초')}] Url Request Success\")\n",
        "            return response.read().decode('utf-8')\n",
        "\n",
        "    except Exception as e:\n",
        "#         if response.getcode() == 400 and datas:\n",
        "#             return None\n",
        "        print(e)\n",
        "        print(f\"[{now.strftime('%Y년%m월%d일 %H시%M분%S초')}] Error for URL : {url}\" )\n",
        "        return None\n",
        "\n",
        "\n",
        "#[CODE 2]  네이버 검색 API\n",
        "def get_NaverSearch(node, keyword, start, display):\n",
        "    base = \"https://openapi.naver.com/v1/search\"\n",
        "    node = \"/%s.json\" % node\n",
        "    parameters = \"?query=%s&start=%s&display=%s\" % (urllib.parse.quote(keyword), start, display)\n",
        "\n",
        "    url = base + node + parameters\n",
        "    responseDecode = get_RequestUrl(url)   #[CODE 1]\n",
        "\n",
        "    if (responseDecode == None):\n",
        "        return None\n",
        "    else:\n",
        "        return json.loads(responseDecode)\n",
        "\n",
        "#[CODE 3]\n",
        "def get_PostData(node, post, jsonResult, cnt):\n",
        "\n",
        "    if node == 'doc':\n",
        "        data = {'제목':post['title'],\n",
        "                '링크':post['link'],\n",
        "                '내용':post['description']}\n",
        "\n",
        "    elif node == 'news':\n",
        "        data = {'제목':post['title'],\n",
        "                '링크':post['originallink'],\n",
        "                '내용':post['description']}\n",
        "\n",
        "    elif node == 'encyc':\n",
        "        data = {'제목':post['title'],\n",
        "                '링크':post['link'],\n",
        "                '내용':post['description'],\n",
        "                '썸네일':post['thumbnail']}\n",
        "\n",
        "    elif node == 'blog':\n",
        "        data = {'제목':post['title'],\n",
        "                '링크':post['link'],\n",
        "                '내용':post['description'],\n",
        "                '블로그이름':post['bloggername'],\n",
        "                '블로그주소':post['bloggerlink'],\n",
        "                '블로그작성날짜':post['postdate']}\n",
        "\n",
        "    elif node == 'cafearticle':\n",
        "          data = {'제목':post['title'],\n",
        "                '링크':post['link'],\n",
        "                '내용':post['description'],\n",
        "                '카페이름':post['cafename'],\n",
        "                '카페url':post['cafeurl']}\n",
        "\n",
        "    elif node == 'kin':\n",
        "        data = {'제목':post['title'],\n",
        "                '링크':post['link'],\n",
        "                '내용':post['description']}\n",
        "\n",
        "    elif node == 'image':\n",
        "        data = {'제목':post['title'],\n",
        "                '링크':post['link'],\n",
        "                '썸네일':post['thumbnail'],\n",
        "                '이미지세로크기':post['sizeheight'],\n",
        "                '이지미가로크기':post['sizewidth']}\n",
        "\n",
        "\n",
        "    jsonResult.append(data)\n",
        "    datas.append(data)\n",
        "\n",
        "    return\n",
        "\n",
        "#[CODE 0]\n",
        "def main():\n",
        "    global node, keyword\n",
        "\n",
        "    nodeType = '''-----------------------------\n",
        "    네이버 검색 대상입니다.\n",
        "      1.doc,  2.news,  3.encyc, 4.blog, 5.cafearticle, 6.지식iN, 7.이미지\n",
        "    -----------------------------'''\n",
        "    print(nodeType)\n",
        "    node = input('번호를 선택하세요.[1:전문자료, 2:뉴스, 3:백과사전, 4.블로그, 5.카페글, 6.지식iN, 7.이미지]')\n",
        "    if node == '1': node = 'doc'\n",
        "    elif node == '2': node = 'news'\n",
        "    elif node == '3': node = 'encyc'\n",
        "    elif node == '4': node = 'blog'\n",
        "    elif node == '5': node = 'cafearticle'\n",
        "    elif node == '6': node = 'kin'\n",
        "    elif node == '7': node = 'image'\n",
        "    else:\n",
        "        node == '1'\n",
        "        node = 'doc'\n",
        "\n",
        "    keyword = input(f'{node} 검색할 검색어를 입력하세요: ')\n",
        "\n",
        "    display, cnt = 100, 0\n",
        "    jsonResult = []\n",
        "    jsonResponse = get_NaverSearch(node, keyword, 1, display)  #[CODE 2]\n",
        "    total = jsonResponse['total']\n",
        "\n",
        "    while ((jsonResponse != None) and (jsonResponse['display'] != 0)):\n",
        "        for post in jsonResponse['items']:\n",
        "            cnt += 1\n",
        "            get_PostData(node, post, jsonResult, cnt)  #[CODE 3]\n",
        "\n",
        "        start = jsonResponse['start'] + jsonResponse['display']\n",
        "        jsonResponse = get_NaverSearch(node, keyword, start, total)\n",
        "#     print(f'가져올 데이터 : {total} 건')\n",
        "\n",
        "    # with open(f'{PATH}/naver_{node}_{keyword}', 'w', encoding='utf8') as outfile:\n",
        "    #     jsonFile = json.dumps(jsonResult,  indent=4, sort_keys=True,  ensure_ascii=False)\n",
        "\n",
        "    #     outfile.write(jsonFile)\n",
        "\n",
        "    print(\"가져온 데이터 : %d 건\" %(cnt))\n",
        "\n",
        "\n",
        "\n",
        "    # csv 파일로 저장하기\n",
        "    file = f'{PATH}/naver_{node}_{keyword}.csv'\n",
        "    df = pd.DataFrame(datas)\n",
        "    df.to_csv(file, index=False, encoding=\"utf-8-sig\")\n",
        "    print(f'{PATH}/naver_{node}_{keyword}.csv SAVED')\n",
        "    return df\n",
        "\n",
        "#-----------\n",
        "# 시작\n",
        "#-----------\n",
        "df = main()\n",
        "df"
      ]
    },
    {
      "cell_type": "markdown",
      "id": "6lHcEMfHjLfk",
      "metadata": {
        "id": "6lHcEMfHjLfk"
      },
      "source": [
        "\n",
        "\n",
        "---\n",
        "\n"
      ]
    },
    {
      "cell_type": "markdown",
      "id": "7a27fa6d",
      "metadata": {
        "id": "7a27fa6d"
      },
      "source": [
        "#### (24.2.29 서비스 종료됨)[실습] :  네이버 Papago API 사용하여 번역하기"
      ]
    },
    {
      "cell_type": "code",
      "execution_count": null,
      "id": "c8b6e522",
      "metadata": {
        "id": "c8b6e522",
        "scrolled": true
      },
      "outputs": [],
      "source": [
        "# import os\n",
        "# import sys\n",
        "# import urllib.request\n",
        "# import datetime\n",
        "# import json\n",
        "\n",
        "\n",
        "# client_id = ''  # 자신의 파파고 NMT API ID\n",
        "# client_pw = ''            # 자신의 파파고 NMT API PASSWORD\n",
        "\n",
        "# news = []   #csv파일을 위한 변수\n",
        "\n",
        "# #[CODE 1]\n",
        "# def papago(prompt, lang=1):\n",
        "\n",
        "#     encText = urllib.parse.quote(prompt)\n",
        "#     if lang == 1 :\n",
        "#         data = \"source=ko&target=en&text=\" + encText\n",
        "#     else:\n",
        "#         data = \"source=en&target=ko&text=\" + encText\n",
        "#     url = \"https://openapi.naver.com/v1/papago/n2mt\"\n",
        "\n",
        "#     req = urllib.request.Request(url)\n",
        "#     req.add_header(\"X-Naver-Client-Id\", client_id)\n",
        "#     req.add_header(\"X-Naver-Client-Secret\", client_pw)\n",
        "\n",
        "#     try:\n",
        "#         response = urllib.request.urlopen(req, data=data.encode(\"utf-8\") )\n",
        "#         if response.getcode() == 200:\n",
        "#             print(f\"[{now.strftime('%Y년%m월%d일 %H시%M분%S초')}] Url Request Success\")\n",
        "#             responseDecode = response.read().decode('utf-8')\n",
        "\n",
        "#             if responseDecode == None:\n",
        "#                 return None\n",
        "#             else:\n",
        "#                 return json.loads(responseDecode)\n",
        "\n",
        "#     except Exception as e:\n",
        "#         print(e)\n",
        "#         print(\"[%s] Error for URL : %s\" % (datetime.datetime.now(), url))\n",
        "#         return None\n",
        "\n",
        "# # 메인\n",
        "# lang= int(input('[선택] 1:한글->영어, 2:영어->한글: '))\n",
        "# txt =  '한글' if lang==1 else '영어'\n",
        "# prompt= input(f'[번역] 변환할 문장을 입력하세요.[{txt}로 입력]: ')\n",
        "\n",
        "# jsonResponse = papago(prompt, lang)  # 파파고 번역\n",
        "# jsonResponse\n",
        "# print('-'*50)\n",
        "# print(f\"[번역 결과] => {jsonResponse['message']['result']['translatedText']}\")\n"
      ]
    },
    {
      "cell_type": "markdown",
      "id": "aa56f180",
      "metadata": {
        "id": "aa56f180"
      },
      "source": [
        "-------------------------"
      ]
    },
    {
      "cell_type": "markdown",
      "id": "OARyiX8OjSDk",
      "metadata": {
        "id": "OARyiX8OjSDk"
      },
      "source": [
        "### <a name=\"2)한글텍스트Cleansing\">2) 한글 텍스트 Cleansing</a>"
      ]
    },
    {
      "cell_type": "markdown",
      "id": "iSHlDdMOkhPa",
      "metadata": {
        "id": "iSHlDdMOkhPa"
      },
      "source": [
        "#### 1.라이브러리 설치"
      ]
    },
    {
      "cell_type": "code",
      "execution_count": 35,
      "id": "yW92MW8gjwcV",
      "metadata": {
        "id": "yW92MW8gjwcV",
        "colab": {
          "base_uri": "https://localhost:8080/"
        },
        "outputId": "e08e9681-917a-43e7-ed25-11578f23778c"
      },
      "outputs": [
        {
          "output_type": "stream",
          "name": "stdout",
          "text": [
            "Requirement already satisfied: nltk in /usr/local/lib/python3.10/dist-packages (3.8.1)\n",
            "Requirement already satisfied: click in /usr/local/lib/python3.10/dist-packages (from nltk) (8.1.7)\n",
            "Requirement already satisfied: joblib in /usr/local/lib/python3.10/dist-packages (from nltk) (1.4.0)\n",
            "Requirement already satisfied: regex>=2021.8.3 in /usr/local/lib/python3.10/dist-packages (from nltk) (2023.12.25)\n",
            "Requirement already satisfied: tqdm in /usr/local/lib/python3.10/dist-packages (from nltk) (4.66.2)\n"
          ]
        }
      ],
      "source": [
        "# 자연어처리 형태소 분석 및 토큰화\n",
        "!pip install nltk"
      ]
    },
    {
      "cell_type": "code",
      "execution_count": 36,
      "id": "xG_Jjc3Vjyvn",
      "metadata": {
        "id": "xG_Jjc3Vjyvn",
        "colab": {
          "base_uri": "https://localhost:8080/"
        },
        "outputId": "577aacbd-c5e2-4ac1-c23b-3d80fdb755b0"
      },
      "outputs": [
        {
          "output_type": "stream",
          "name": "stdout",
          "text": [
            "Collecting konlpy\n",
            "  Downloading konlpy-0.6.0-py2.py3-none-any.whl (19.4 MB)\n",
            "\u001b[2K     \u001b[90m━━━━━━━━━━━━━━━━━━━━━━━━━━━━━━━━━━━━━━━━\u001b[0m \u001b[32m19.4/19.4 MB\u001b[0m \u001b[31m28.9 MB/s\u001b[0m eta \u001b[36m0:00:00\u001b[0m\n",
            "\u001b[?25hCollecting JPype1>=0.7.0 (from konlpy)\n",
            "  Downloading JPype1-1.5.0-cp310-cp310-manylinux_2_17_x86_64.manylinux2014_x86_64.whl (488 kB)\n",
            "\u001b[2K     \u001b[90m━━━━━━━━━━━━━━━━━━━━━━━━━━━━━━━━━━━━━━━━\u001b[0m \u001b[32m488.6/488.6 kB\u001b[0m \u001b[31m36.6 MB/s\u001b[0m eta \u001b[36m0:00:00\u001b[0m\n",
            "\u001b[?25hRequirement already satisfied: lxml>=4.1.0 in /usr/local/lib/python3.10/dist-packages (from konlpy) (4.9.4)\n",
            "Requirement already satisfied: numpy>=1.6 in /usr/local/lib/python3.10/dist-packages (from konlpy) (1.25.2)\n",
            "Requirement already satisfied: packaging in /usr/local/lib/python3.10/dist-packages (from JPype1>=0.7.0->konlpy) (24.0)\n",
            "Installing collected packages: JPype1, konlpy\n",
            "Successfully installed JPype1-1.5.0 konlpy-0.6.0\n"
          ]
        }
      ],
      "source": [
        "# (한글)자연어처리 형태소 분석 및 토큰화\n",
        "# (WinOS에서는 konlpy를 사용하기 위해 JDK를 설치해야 오류가 없어 코랩에서 실행함)\n",
        "!pip install konlpy"
      ]
    },
    {
      "cell_type": "code",
      "execution_count": 37,
      "id": "QnXMfe_tj2Tr",
      "metadata": {
        "id": "QnXMfe_tj2Tr",
        "colab": {
          "base_uri": "https://localhost:8080/"
        },
        "outputId": "57b23194-ba95-4b16-c576-7b4b0722e032"
      },
      "outputs": [
        {
          "output_type": "stream",
          "name": "stdout",
          "text": [
            "Requirement already satisfied: beautifulsoup4 in /usr/local/lib/python3.10/dist-packages (4.12.3)\n",
            "Requirement already satisfied: soupsieve>1.2 in /usr/local/lib/python3.10/dist-packages (from beautifulsoup4) (2.5)\n"
          ]
        }
      ],
      "source": [
        "# html tag parsing을 위한 라이브러리\n",
        "!pip install beautifulsoup4"
      ]
    },
    {
      "cell_type": "code",
      "execution_count": 38,
      "id": "MYcUubDGfUjr",
      "metadata": {
        "id": "MYcUubDGfUjr",
        "colab": {
          "base_uri": "https://localhost:8080/"
        },
        "outputId": "4fd3ad9f-bdd5-429c-c043-a4eb11684654"
      },
      "outputs": [
        {
          "output_type": "stream",
          "name": "stdout",
          "text": [
            "Requirement already satisfied: scikit-learn in /usr/local/lib/python3.10/dist-packages (1.2.2)\n",
            "Requirement already satisfied: numpy>=1.17.3 in /usr/local/lib/python3.10/dist-packages (from scikit-learn) (1.25.2)\n",
            "Requirement already satisfied: scipy>=1.3.2 in /usr/local/lib/python3.10/dist-packages (from scikit-learn) (1.11.4)\n",
            "Requirement already satisfied: joblib>=1.1.1 in /usr/local/lib/python3.10/dist-packages (from scikit-learn) (1.4.0)\n",
            "Requirement already satisfied: threadpoolctl>=2.0.0 in /usr/local/lib/python3.10/dist-packages (from scikit-learn) (3.4.0)\n"
          ]
        }
      ],
      "source": [
        "# 사이킷런 CountVectorizer클래스 사용 : 단어 빈도수 추출\n",
        "!pip install scikit-learn"
      ]
    },
    {
      "cell_type": "markdown",
      "id": "tQ6-YXHGkkCN",
      "metadata": {
        "id": "tQ6-YXHGkkCN"
      },
      "source": [
        "#### 2.한글 테스트 자연어 처리(Text Cleansing)\n",
        "- 앞에서 OpenAPI를 사용하여 뉴스 데이터를 가져온 뒤에 아래 코트를 실행시키도록 한다.\n"
      ]
    },
    {
      "cell_type": "code",
      "execution_count": 40,
      "id": "bBQc3PLwjLzQ",
      "metadata": {
        "id": "bBQc3PLwjLzQ",
        "colab": {
          "base_uri": "https://localhost:8080/",
          "height": 560
        },
        "outputId": "e8f44f95-f0a8-402d-d800-161240e0334b"
      },
      "outputs": [
        {
          "output_type": "stream",
          "name": "stderr",
          "text": [
            "[nltk_data] Downloading package punkt to /root/nltk_data...\n",
            "[nltk_data]   Unzipping tokenizers/punkt.zip.\n",
            "[nltk_data] Downloading package punkt to /root/nltk_data...\n",
            "[nltk_data]   Package punkt is already up-to-date!\n"
          ]
        },
        {
          "output_type": "stream",
          "name": "stdout",
          "text": [
            "./naver_blog_꼬마물떼새_clean.csv SAVED\n"
          ]
        },
        {
          "output_type": "execute_result",
          "data": {
            "text/plain": [
              "                                 제목  \\\n",
              "0  강릉항 남대천 하다 흰죽지 꼬마 물떼새 붉다 부리 찌르레기   \n",
              "1            봄 탐조 제비 희다 목물떼새 꼬마 물떼새   \n",
              "2         탐조 소래 습지 스윈 호 오목눈이 꼬마 물떼새   \n",
              "3   순천만 주차장 꼬마 물떼새 관찰 일지 순천만 생태 배움터   \n",
              "4              일상 탐조 꼬마 물떼새 희다 목물떼새   \n",
              "\n",
              "                                              링크  \\\n",
              "0    https://blog.naver.com/su_si_a/223337214876   \n",
              "1  https://blog.naver.com/soulfulog/223421683405   \n",
              "2     https://blog.naver.com/polk91/223421750348   \n",
              "3    https://blog.naver.com/knr1606/223123534781   \n",
              "4  https://blog.naver.com/tongzolim/223425049348   \n",
              "\n",
              "                                                  내용  \\\n",
              "0  붉다 부리 갈매기 알락 할미 새 흰죽지 꼬마 물떼새 흰죽지 꼬마 물떼새 희다 목물떼...   \n",
              "1  희다 목물떼 새다 역시 관찰 되어다 곳 텃새 살아가다 희다 목물떼새 번식 하다 듯 ...   \n",
              "2  벚꽃 사진 흰뺨검둥오리 꼬마 물떼새 꼬물이 마리 약간 거리 두기 하다 있다 노랑 눈...   \n",
              "3  순천만 강나루 순천만 주차장 번식 꼬마 물떼새 관찰 일지 정리 하다 보다 관찰 기간...   \n",
              "4  희다 목물떼새 꼬마 물떼새 녀석 까딱 거리 종종 거리 움직이다 찾다 있다 서서 얼음...   \n",
              "\n",
              "                       블로그이름                     블로그주소   블로그작성날짜  \n",
              "0  오늘도 즐거운 내맘대로 탐조이야기 그리고 일상    blog.naver.com/su_si_a  20240129  \n",
              "1                 SOULFUL:OG  blog.naver.com/soulfulog  20240420  \n",
              "2                   반더킴의 블로그     blog.naver.com/polk91  20240421  \n",
              "3                   순천만생태배움터    blog.naver.com/knr1606  20230608  \n",
              "4              걸음을 옮겨라......  blog.naver.com/tongzolim  20240423  "
            ],
            "text/html": [
              "\n",
              "  <div id=\"df-c88b2191-2e8d-444d-8781-ca7e213cebae\" class=\"colab-df-container\">\n",
              "    <div>\n",
              "<style scoped>\n",
              "    .dataframe tbody tr th:only-of-type {\n",
              "        vertical-align: middle;\n",
              "    }\n",
              "\n",
              "    .dataframe tbody tr th {\n",
              "        vertical-align: top;\n",
              "    }\n",
              "\n",
              "    .dataframe thead th {\n",
              "        text-align: right;\n",
              "    }\n",
              "</style>\n",
              "<table border=\"1\" class=\"dataframe\">\n",
              "  <thead>\n",
              "    <tr style=\"text-align: right;\">\n",
              "      <th></th>\n",
              "      <th>제목</th>\n",
              "      <th>링크</th>\n",
              "      <th>내용</th>\n",
              "      <th>블로그이름</th>\n",
              "      <th>블로그주소</th>\n",
              "      <th>블로그작성날짜</th>\n",
              "    </tr>\n",
              "  </thead>\n",
              "  <tbody>\n",
              "    <tr>\n",
              "      <th>0</th>\n",
              "      <td>강릉항 남대천 하다 흰죽지 꼬마 물떼새 붉다 부리 찌르레기</td>\n",
              "      <td>https://blog.naver.com/su_si_a/223337214876</td>\n",
              "      <td>붉다 부리 갈매기 알락 할미 새 흰죽지 꼬마 물떼새 흰죽지 꼬마 물떼새 희다 목물떼...</td>\n",
              "      <td>오늘도 즐거운 내맘대로 탐조이야기 그리고 일상</td>\n",
              "      <td>blog.naver.com/su_si_a</td>\n",
              "      <td>20240129</td>\n",
              "    </tr>\n",
              "    <tr>\n",
              "      <th>1</th>\n",
              "      <td>봄 탐조 제비 희다 목물떼새 꼬마 물떼새</td>\n",
              "      <td>https://blog.naver.com/soulfulog/223421683405</td>\n",
              "      <td>희다 목물떼 새다 역시 관찰 되어다 곳 텃새 살아가다 희다 목물떼새 번식 하다 듯 ...</td>\n",
              "      <td>SOULFUL:OG</td>\n",
              "      <td>blog.naver.com/soulfulog</td>\n",
              "      <td>20240420</td>\n",
              "    </tr>\n",
              "    <tr>\n",
              "      <th>2</th>\n",
              "      <td>탐조 소래 습지 스윈 호 오목눈이 꼬마 물떼새</td>\n",
              "      <td>https://blog.naver.com/polk91/223421750348</td>\n",
              "      <td>벚꽃 사진 흰뺨검둥오리 꼬마 물떼새 꼬물이 마리 약간 거리 두기 하다 있다 노랑 눈...</td>\n",
              "      <td>반더킴의 블로그</td>\n",
              "      <td>blog.naver.com/polk91</td>\n",
              "      <td>20240421</td>\n",
              "    </tr>\n",
              "    <tr>\n",
              "      <th>3</th>\n",
              "      <td>순천만 주차장 꼬마 물떼새 관찰 일지 순천만 생태 배움터</td>\n",
              "      <td>https://blog.naver.com/knr1606/223123534781</td>\n",
              "      <td>순천만 강나루 순천만 주차장 번식 꼬마 물떼새 관찰 일지 정리 하다 보다 관찰 기간...</td>\n",
              "      <td>순천만생태배움터</td>\n",
              "      <td>blog.naver.com/knr1606</td>\n",
              "      <td>20230608</td>\n",
              "    </tr>\n",
              "    <tr>\n",
              "      <th>4</th>\n",
              "      <td>일상 탐조 꼬마 물떼새 희다 목물떼새</td>\n",
              "      <td>https://blog.naver.com/tongzolim/223425049348</td>\n",
              "      <td>희다 목물떼새 꼬마 물떼새 녀석 까딱 거리 종종 거리 움직이다 찾다 있다 서서 얼음...</td>\n",
              "      <td>걸음을 옮겨라......</td>\n",
              "      <td>blog.naver.com/tongzolim</td>\n",
              "      <td>20240423</td>\n",
              "    </tr>\n",
              "  </tbody>\n",
              "</table>\n",
              "</div>\n",
              "    <div class=\"colab-df-buttons\">\n",
              "\n",
              "  <div class=\"colab-df-container\">\n",
              "    <button class=\"colab-df-convert\" onclick=\"convertToInteractive('df-c88b2191-2e8d-444d-8781-ca7e213cebae')\"\n",
              "            title=\"Convert this dataframe to an interactive table.\"\n",
              "            style=\"display:none;\">\n",
              "\n",
              "  <svg xmlns=\"http://www.w3.org/2000/svg\" height=\"24px\" viewBox=\"0 -960 960 960\">\n",
              "    <path d=\"M120-120v-720h720v720H120Zm60-500h600v-160H180v160Zm220 220h160v-160H400v160Zm0 220h160v-160H400v160ZM180-400h160v-160H180v160Zm440 0h160v-160H620v160ZM180-180h160v-160H180v160Zm440 0h160v-160H620v160Z\"/>\n",
              "  </svg>\n",
              "    </button>\n",
              "\n",
              "  <style>\n",
              "    .colab-df-container {\n",
              "      display:flex;\n",
              "      gap: 12px;\n",
              "    }\n",
              "\n",
              "    .colab-df-convert {\n",
              "      background-color: #E8F0FE;\n",
              "      border: none;\n",
              "      border-radius: 50%;\n",
              "      cursor: pointer;\n",
              "      display: none;\n",
              "      fill: #1967D2;\n",
              "      height: 32px;\n",
              "      padding: 0 0 0 0;\n",
              "      width: 32px;\n",
              "    }\n",
              "\n",
              "    .colab-df-convert:hover {\n",
              "      background-color: #E2EBFA;\n",
              "      box-shadow: 0px 1px 2px rgba(60, 64, 67, 0.3), 0px 1px 3px 1px rgba(60, 64, 67, 0.15);\n",
              "      fill: #174EA6;\n",
              "    }\n",
              "\n",
              "    .colab-df-buttons div {\n",
              "      margin-bottom: 4px;\n",
              "    }\n",
              "\n",
              "    [theme=dark] .colab-df-convert {\n",
              "      background-color: #3B4455;\n",
              "      fill: #D2E3FC;\n",
              "    }\n",
              "\n",
              "    [theme=dark] .colab-df-convert:hover {\n",
              "      background-color: #434B5C;\n",
              "      box-shadow: 0px 1px 3px 1px rgba(0, 0, 0, 0.15);\n",
              "      filter: drop-shadow(0px 1px 2px rgba(0, 0, 0, 0.3));\n",
              "      fill: #FFFFFF;\n",
              "    }\n",
              "  </style>\n",
              "\n",
              "    <script>\n",
              "      const buttonEl =\n",
              "        document.querySelector('#df-c88b2191-2e8d-444d-8781-ca7e213cebae button.colab-df-convert');\n",
              "      buttonEl.style.display =\n",
              "        google.colab.kernel.accessAllowed ? 'block' : 'none';\n",
              "\n",
              "      async function convertToInteractive(key) {\n",
              "        const element = document.querySelector('#df-c88b2191-2e8d-444d-8781-ca7e213cebae');\n",
              "        const dataTable =\n",
              "          await google.colab.kernel.invokeFunction('convertToInteractive',\n",
              "                                                    [key], {});\n",
              "        if (!dataTable) return;\n",
              "\n",
              "        const docLinkHtml = 'Like what you see? Visit the ' +\n",
              "          '<a target=\"_blank\" href=https://colab.research.google.com/notebooks/data_table.ipynb>data table notebook</a>'\n",
              "          + ' to learn more about interactive tables.';\n",
              "        element.innerHTML = '';\n",
              "        dataTable['output_type'] = 'display_data';\n",
              "        await google.colab.output.renderOutput(dataTable, element);\n",
              "        const docLink = document.createElement('div');\n",
              "        docLink.innerHTML = docLinkHtml;\n",
              "        element.appendChild(docLink);\n",
              "      }\n",
              "    </script>\n",
              "  </div>\n",
              "\n",
              "\n",
              "<div id=\"df-d2b03b33-c0f1-4728-a296-462810938171\">\n",
              "  <button class=\"colab-df-quickchart\" onclick=\"quickchart('df-d2b03b33-c0f1-4728-a296-462810938171')\"\n",
              "            title=\"Suggest charts\"\n",
              "            style=\"display:none;\">\n",
              "\n",
              "<svg xmlns=\"http://www.w3.org/2000/svg\" height=\"24px\"viewBox=\"0 0 24 24\"\n",
              "     width=\"24px\">\n",
              "    <g>\n",
              "        <path d=\"M19 3H5c-1.1 0-2 .9-2 2v14c0 1.1.9 2 2 2h14c1.1 0 2-.9 2-2V5c0-1.1-.9-2-2-2zM9 17H7v-7h2v7zm4 0h-2V7h2v10zm4 0h-2v-4h2v4z\"/>\n",
              "    </g>\n",
              "</svg>\n",
              "  </button>\n",
              "\n",
              "<style>\n",
              "  .colab-df-quickchart {\n",
              "      --bg-color: #E8F0FE;\n",
              "      --fill-color: #1967D2;\n",
              "      --hover-bg-color: #E2EBFA;\n",
              "      --hover-fill-color: #174EA6;\n",
              "      --disabled-fill-color: #AAA;\n",
              "      --disabled-bg-color: #DDD;\n",
              "  }\n",
              "\n",
              "  [theme=dark] .colab-df-quickchart {\n",
              "      --bg-color: #3B4455;\n",
              "      --fill-color: #D2E3FC;\n",
              "      --hover-bg-color: #434B5C;\n",
              "      --hover-fill-color: #FFFFFF;\n",
              "      --disabled-bg-color: #3B4455;\n",
              "      --disabled-fill-color: #666;\n",
              "  }\n",
              "\n",
              "  .colab-df-quickchart {\n",
              "    background-color: var(--bg-color);\n",
              "    border: none;\n",
              "    border-radius: 50%;\n",
              "    cursor: pointer;\n",
              "    display: none;\n",
              "    fill: var(--fill-color);\n",
              "    height: 32px;\n",
              "    padding: 0;\n",
              "    width: 32px;\n",
              "  }\n",
              "\n",
              "  .colab-df-quickchart:hover {\n",
              "    background-color: var(--hover-bg-color);\n",
              "    box-shadow: 0 1px 2px rgba(60, 64, 67, 0.3), 0 1px 3px 1px rgba(60, 64, 67, 0.15);\n",
              "    fill: var(--button-hover-fill-color);\n",
              "  }\n",
              "\n",
              "  .colab-df-quickchart-complete:disabled,\n",
              "  .colab-df-quickchart-complete:disabled:hover {\n",
              "    background-color: var(--disabled-bg-color);\n",
              "    fill: var(--disabled-fill-color);\n",
              "    box-shadow: none;\n",
              "  }\n",
              "\n",
              "  .colab-df-spinner {\n",
              "    border: 2px solid var(--fill-color);\n",
              "    border-color: transparent;\n",
              "    border-bottom-color: var(--fill-color);\n",
              "    animation:\n",
              "      spin 1s steps(1) infinite;\n",
              "  }\n",
              "\n",
              "  @keyframes spin {\n",
              "    0% {\n",
              "      border-color: transparent;\n",
              "      border-bottom-color: var(--fill-color);\n",
              "      border-left-color: var(--fill-color);\n",
              "    }\n",
              "    20% {\n",
              "      border-color: transparent;\n",
              "      border-left-color: var(--fill-color);\n",
              "      border-top-color: var(--fill-color);\n",
              "    }\n",
              "    30% {\n",
              "      border-color: transparent;\n",
              "      border-left-color: var(--fill-color);\n",
              "      border-top-color: var(--fill-color);\n",
              "      border-right-color: var(--fill-color);\n",
              "    }\n",
              "    40% {\n",
              "      border-color: transparent;\n",
              "      border-right-color: var(--fill-color);\n",
              "      border-top-color: var(--fill-color);\n",
              "    }\n",
              "    60% {\n",
              "      border-color: transparent;\n",
              "      border-right-color: var(--fill-color);\n",
              "    }\n",
              "    80% {\n",
              "      border-color: transparent;\n",
              "      border-right-color: var(--fill-color);\n",
              "      border-bottom-color: var(--fill-color);\n",
              "    }\n",
              "    90% {\n",
              "      border-color: transparent;\n",
              "      border-bottom-color: var(--fill-color);\n",
              "    }\n",
              "  }\n",
              "</style>\n",
              "\n",
              "  <script>\n",
              "    async function quickchart(key) {\n",
              "      const quickchartButtonEl =\n",
              "        document.querySelector('#' + key + ' button');\n",
              "      quickchartButtonEl.disabled = true;  // To prevent multiple clicks.\n",
              "      quickchartButtonEl.classList.add('colab-df-spinner');\n",
              "      try {\n",
              "        const charts = await google.colab.kernel.invokeFunction(\n",
              "            'suggestCharts', [key], {});\n",
              "      } catch (error) {\n",
              "        console.error('Error during call to suggestCharts:', error);\n",
              "      }\n",
              "      quickchartButtonEl.classList.remove('colab-df-spinner');\n",
              "      quickchartButtonEl.classList.add('colab-df-quickchart-complete');\n",
              "    }\n",
              "    (() => {\n",
              "      let quickchartButtonEl =\n",
              "        document.querySelector('#df-d2b03b33-c0f1-4728-a296-462810938171 button');\n",
              "      quickchartButtonEl.style.display =\n",
              "        google.colab.kernel.accessAllowed ? 'block' : 'none';\n",
              "    })();\n",
              "  </script>\n",
              "</div>\n",
              "\n",
              "    </div>\n",
              "  </div>\n"
            ],
            "application/vnd.google.colaboratory.intrinsic+json": {
              "type": "dataframe",
              "variable_name": "df",
              "summary": "{\n  \"name\": \"df\",\n  \"rows\": 100,\n  \"fields\": [\n    {\n      \"column\": \"\\uc81c\\ubaa9\",\n      \"properties\": {\n        \"dtype\": \"string\",\n        \"num_unique_values\": 86,\n        \"samples\": [\n          \"\\ube44 \\uc624\\ub2e4 \\ub0a0 \\uad00\\uace1\\uc9c0 \\ub2f4\\ub2e4 \\uaf2c\\ub9c8 \\ubb3c\\ub5bc\\uc0c8\",\n          \"\\uac15\\ub989\\ud56d \\ub0a8\\ub300\\ucc9c \\ud558\\ub2e4 \\ud770\\uc8fd\\uc9c0 \\uaf2c\\ub9c8 \\ubb3c\\ub5bc\\uc0c8 \\ubd89\\ub2e4 \\ubd80\\ub9ac \\ucc0c\\ub974\\ub808\\uae30\",\n          \"\\uaf2c\\ub9c8 \\ubb3c\\ub5bc\\uc0c8 \\uc9dd\\uc9d3\\uae30 \\uad6c\\uc560 \\uae30\\uc7a5\\uad70 \\ucca0\\ub9c8 \\ucc9c\"\n        ],\n        \"semantic_type\": \"\",\n        \"description\": \"\"\n      }\n    },\n    {\n      \"column\": \"\\ub9c1\\ud06c\",\n      \"properties\": {\n        \"dtype\": \"string\",\n        \"num_unique_values\": 100,\n        \"samples\": [\n          \"https://blog.naver.com/kbumhu/220714086634\",\n          \"https://blog.naver.com/cleanerkj/222379039225\",\n          \"https://blog.naver.com/vogue123/100110712670\"\n        ],\n        \"semantic_type\": \"\",\n        \"description\": \"\"\n      }\n    },\n    {\n      \"column\": \"\\ub0b4\\uc6a9\",\n      \"properties\": {\n        \"dtype\": \"string\",\n        \"num_unique_values\": 98,\n        \"samples\": [\n          \"\\ub9e4 \\uc5b4\\ub9ac\\ub2e4 \\uc0c8 \\ucc38\\ub9e4 \\uc5b4\\ub9ac\\ub2e4 \\uc0c8 \\ud76c\\ub2e4 \\uae30\\ub7ec\\uae30 \\uc1e0 \\ud669\\uc870\\ub871\\uc774 \\ud669\\uc870\\ub871\\uc774 \\ud669\\uc0c8 \\ub9d0\\ub625\\uac00\\ub9ac \\ub9d0\\ub625\\uac00\\ub9ac \\ubd89\\ub2e4 \\uba38\\ub9ac \\uc624\\ubaa9\\ub208\\uc774 \\ubb3c\\uc218\\ub9ac \\ud3ec\\uc778\\ud2b8 \\ubcf4\\ub2e4 \\uc0c8 \\ubaa9\\uc695 \\ud558\\ub2e4 \\uc628 \\uaf2c\\ub9c8 \\ubb3c\\ub5bc\\uc0c8 \\uc800\\uc5b4\\uc0c8 \\ubaa9\\uc695 \\ud558\\ub2e4 \\uc628 \\ud560\\ubbf8 \\uc0c8 \\ub098\\uac00\\ub2e4 \\ub9cc\\ub09c \\ubb3c\\uc218\\ub9ac\",\n          \"\\uaf2c\\ub9c8 \\ubb3c\\ub5bc\\uc0c8 \\ucc3e\\uc544\\uc624\\ub2e4 \\uad00\\uace1\\uc9c0 \\uc7a5\\ub2e4\\ub9ac \\ubb3c\\ub5bc\\uc0c8 \\ub9cc\\ub098\\ub2e4 \\uc608\\uc0c1 \\uae68\\ub2e4 \\uc870\\uae08 \\uc77c\\ucc0d \\ucc0d\\ub2e4 \\ub098\\ub2e4 \\ud314\\uc774 \\ud6c4 \\ub4e4\\ub2e4 \\ub9bc \\uaf2c\\ub9c8 \\uc190\\ub2d8 \\ubcfc \\uc788\\ub2e4 \\uc54c\\ub2e4 \\uc8fc\\uc2ec \\uac10\\uc0ac \\ub4dc\\ub9ac\\ub2e4 \\uac00\\ub054\",\n          \"\\uc2dc\\uc791 \\ud558\\ub2e4 \\ud76c\\ub2e4 \\ubaa9\\ubb3c\\ub5bc\\uc0c8 \\uaf2c\\ub9c8 \\ubb3c\\ub5bc\\uc0c8 \\ud3ec\\ub780 \\uc2dc\\uc791 \\ub418\\ub2e4 \\ud574\\ubcf4\\ub2e4 \\ucd08 \\uae30\\uc628 \\uc5ec\\ub984 \\ub0a0\\uc528 \\uae30\\uc628 \\ubcf4\\uc774\\ub2e4 \\uac00\\uc6b4\\ub370 \\ud76c\\ub2e4 \\ubaa9\\ubb3c\\ub5bc\\uc0c8 \\uaf2c\\ub9c8 \\ubb3c\\ub5bc\\uc0c8 \\ud3ec\\ub780 \\ud558\\ub2e4 \\ud798\\ub4dc\\ub2e4 \\ud558\\ub2e4 \\uac1c\\uc6b8 \\ud558\\ucc9c \\uac15\\uac00\"\n        ],\n        \"semantic_type\": \"\",\n        \"description\": \"\"\n      }\n    },\n    {\n      \"column\": \"\\ube14\\ub85c\\uadf8\\uc774\\ub984\",\n      \"properties\": {\n        \"dtype\": \"string\",\n        \"num_unique_values\": 52,\n        \"samples\": [\n          \"hangsan47 \\uc758\\ube14\\ub85c\\uadf8\",\n          \"\\uc0b0\\ub4e4\\uac15\\uc758 \\uc0c8\\uc774\\uc57c\\uae30\",\n          \"ECO-DMZ 21\"\n        ],\n        \"semantic_type\": \"\",\n        \"description\": \"\"\n      }\n    },\n    {\n      \"column\": \"\\ube14\\ub85c\\uadf8\\uc8fc\\uc18c\",\n      \"properties\": {\n        \"dtype\": \"string\",\n        \"num_unique_values\": 52,\n        \"samples\": [\n          \"blog.naver.com/hangsan47\",\n          \"https://oks03.tistory.com/\",\n          \"blog.naver.com/chalkag\"\n        ],\n        \"semantic_type\": \"\",\n        \"description\": \"\"\n      }\n    },\n    {\n      \"column\": \"\\ube14\\ub85c\\uadf8\\uc791\\uc131\\ub0a0\\uc9dc\",\n      \"properties\": {\n        \"dtype\": \"number\",\n        \"std\": 39734,\n        \"min\": 20080211,\n        \"max\": 20240424,\n        \"num_unique_values\": 96,\n        \"samples\": [\n          20130527,\n          20180407,\n          20180512\n        ],\n        \"semantic_type\": \"\",\n        \"description\": \"\"\n      }\n    }\n  ]\n}"
            }
          },
          "metadata": {},
          "execution_count": 40
        }
      ],
      "source": [
        "import pandas as pd\n",
        "import re  #regular expression 정규 표현식\n",
        "from bs4 import BeautifulSoup\n",
        "import konlpy\n",
        "import nltk\n",
        "\n",
        "def clean_korean_documents(documents):\n",
        "    #텍스트 정제 (HTML 태그 제거)\n",
        "    for i, document in enumerate(documents):\n",
        "        document = BeautifulSoup(document, 'html.parser').text\n",
        "        documents[i] = document\n",
        "\n",
        "    #텍스트 정제 (특수기호 제거)\n",
        "    for i, document in enumerate(documents):\n",
        "        document = re.sub(r'[^ ㄱ-ㅣ가-힣]', '', document) #특수기호 제거, 정규 표현식\n",
        "        documents[i] = document\n",
        "\n",
        "    #텍스트 정제 (형태소 분석)\n",
        "    for i, document in enumerate(documents):\n",
        "        okt = konlpy.tag.Okt()\n",
        "        clean_words = []\n",
        "        for word in okt.pos(document, stem=True): #어간 추출\n",
        "            if word[1] in ['Noun', 'Verb', 'Adjective']: #명사, 동사, 형용사\n",
        "                clean_words.append(word[0])\n",
        "        document = ' '.join(clean_words)\n",
        "        documents[i] = document\n",
        "\n",
        "    #텍스트 정제 (불용어 제거)\n",
        "    df = pd.read_csv('https://raw.githubusercontent.com/cranberryai/todak_todak_python/master/machine_learning_text/clean_korean_documents/korean_stopwords.txt', header=None)\n",
        "    df[0] = df[0].apply(lambda x: x.strip())\n",
        "    stopwords = df[0].to_numpy()\n",
        "    nltk.download('punkt')\n",
        "    for i, document in enumerate(documents):\n",
        "        clean_words = []\n",
        "        for word in nltk.tokenize.word_tokenize(document):\n",
        "            if word not in stopwords: #불용어 제거\n",
        "                clean_words.append(word)\n",
        "        documents[i] = ' '.join(clean_words)\n",
        "\n",
        "    return documents\n",
        "\n",
        "\n",
        "def clean_target_feature(data):\n",
        "    x_data = data.to_list()\n",
        "    return clean_korean_documents(x_data)\n",
        "\n",
        "\n",
        "\n",
        "# ---------------------\n",
        "# 1.클린징할 파일 가져오기\n",
        "file = f'{PATH}/naver_{node}_{keyword}.csv'  # 앞에서 만들어진 파일 사용하기\n",
        "file='./naver_blog_꼬마물떼새.csv'\n",
        "df = pd.read_csv(file)\n",
        "\n",
        "# 2.클린징할 컬럼 선택해서 클린징하기\n",
        "# (앞 OpenAPI검색에서 2.news 검색을 한 후 실행하기)\n",
        "df['제목'] = clean_target_feature(df['제목'])  # 기사 제목\n",
        "df['내용'] = clean_target_feature(df['내용'])  # 기사 내용\n",
        "\n",
        "# 3.클린징 결과 csv 파일로 저장하기\n",
        "file = f'{PATH}/naver_{node}_{keyword}_clean.csv'\n",
        "df.to_csv(file, index=False, encoding=\"utf-8-sig\")\n",
        "print(f'{file} SAVED')\n",
        "\n",
        "df.head()\n"
      ]
    },
    {
      "cell_type": "markdown",
      "id": "4k38KlXmtWPn",
      "metadata": {
        "id": "4k38KlXmtWPn"
      },
      "source": [
        "#### 3.워드 클라우드 만들기"
      ]
    },
    {
      "cell_type": "code",
      "source": [
        "!pip install wordcloud"
      ],
      "metadata": {
        "colab": {
          "base_uri": "https://localhost:8080/"
        },
        "id": "XCaQsdZwVu1v",
        "outputId": "a75e5c37-2b3a-473b-c3b0-6239f482cadb"
      },
      "id": "XCaQsdZwVu1v",
      "execution_count": null,
      "outputs": [
        {
          "output_type": "stream",
          "name": "stdout",
          "text": [
            "Requirement already satisfied: wordcloud in /usr/local/lib/python3.10/dist-packages (1.9.3)\n",
            "Requirement already satisfied: numpy>=1.6.1 in /usr/local/lib/python3.10/dist-packages (from wordcloud) (1.25.2)\n",
            "Requirement already satisfied: pillow in /usr/local/lib/python3.10/dist-packages (from wordcloud) (9.4.0)\n",
            "Requirement already satisfied: matplotlib in /usr/local/lib/python3.10/dist-packages (from wordcloud) (3.7.1)\n",
            "Requirement already satisfied: contourpy>=1.0.1 in /usr/local/lib/python3.10/dist-packages (from matplotlib->wordcloud) (1.2.1)\n",
            "Requirement already satisfied: cycler>=0.10 in /usr/local/lib/python3.10/dist-packages (from matplotlib->wordcloud) (0.12.1)\n",
            "Requirement already satisfied: fonttools>=4.22.0 in /usr/local/lib/python3.10/dist-packages (from matplotlib->wordcloud) (4.51.0)\n",
            "Requirement already satisfied: kiwisolver>=1.0.1 in /usr/local/lib/python3.10/dist-packages (from matplotlib->wordcloud) (1.4.5)\n",
            "Requirement already satisfied: packaging>=20.0 in /usr/local/lib/python3.10/dist-packages (from matplotlib->wordcloud) (24.0)\n",
            "Requirement already satisfied: pyparsing>=2.3.1 in /usr/local/lib/python3.10/dist-packages (from matplotlib->wordcloud) (3.1.2)\n",
            "Requirement already satisfied: python-dateutil>=2.7 in /usr/local/lib/python3.10/dist-packages (from matplotlib->wordcloud) (2.8.2)\n",
            "Requirement already satisfied: six>=1.5 in /usr/local/lib/python3.10/dist-packages (from python-dateutil>=2.7->matplotlib->wordcloud) (1.16.0)\n"
          ]
        }
      ]
    },
    {
      "cell_type": "code",
      "execution_count": 41,
      "id": "vkCWhYlgt8c2",
      "metadata": {
        "id": "vkCWhYlgt8c2"
      },
      "outputs": [],
      "source": [
        "import numpy as np\n",
        "import matplotlib.pyplot as plt\n",
        "from wordcloud import WordCloud\n",
        "import matplotlib.pyplot as plt\n",
        "plt.rcParams['figure.figsize'] = (10,6)\n",
        "\n",
        "# 말뭉치를 토큰화하여 빈도수 가져오기\n",
        "def get_wordTokenCount(corpus):\n",
        "    from sklearn.feature_extraction.text import CountVectorizer\n",
        "\n",
        "    # 말뭉치를 토큰화하기\n",
        "    vect = CountVectorizer().fit(corpus)\n",
        "    count = vect.transform(corpus).toarray().sum(axis=0)\n",
        "\n",
        "    # 토큰 빈도수로 정렬하고 토큰명 추출\n",
        "    idx = np.argsort(-count)  # 내림 정렬하여 인덱스 반환: 토큰의 인덱스\n",
        "    count = count[idx]        # 토큰의 빈도수\n",
        "    feature_name = np.array(vect.get_feature_names_out())[idx]  # 토큰값\n",
        "\n",
        "    # 빈도수 많은 순서대로 토큰명 10개만 출력\n",
        "    print(list(zip(feature_name, count))[:10])\n",
        "\n",
        "    return feature_name, count\n",
        "\n",
        "\n",
        "# 단어(토큰) 빈도수 막대 그래프 그리기\n",
        "def draw_wordTokenCountGraph(data, freq):\n",
        "    plt.bar(data, freq)\n",
        "    plt.grid()\n",
        "    plt.show()\n",
        "\n",
        "    # 그래프 그림 저장히기\n",
        "    plt.savefig(f'./token_bar_graph.png')\n",
        "\n",
        "# 워드클라우드 만들기\n",
        "def make_wordcloud(feature_name, count):\n",
        "    # 한글 폰트 경로를 설정\n",
        "    font_path = 'NanumGothic'  #/usr/share/fonts/truetype/nanum/NanumGothic.ttf  #코랩\n",
        "    #font_path = 'malgun'  # C:/Windows/Fonts/                                  #window\n",
        "\n",
        "    # (토큰명, 빈도수) 딕셔너리 타입으로 변환\n",
        "    data = dict(zip(feature_name, count))\n",
        "\n",
        "    # 워드클라우드로 그래프로 시각화\n",
        "    wc = WordCloud(width = 1000, height = 600, background_color=\"black\", font_path=font_path)\n",
        "    plt.imshow(wc.generate_from_frequencies(data)) #딕셔너리\n",
        "    plt.axis(\"off\")\n",
        "    plt.show()\n",
        "\n",
        "    # 이미지 파일로 저장하기\n",
        "    wc.to_file(f'./워드클라우드.png')\n"
      ]
    },
    {
      "cell_type": "code",
      "execution_count": 42,
      "id": "ijyL_9YSgg0q",
      "metadata": {
        "id": "ijyL_9YSgg0q",
        "colab": {
          "base_uri": "https://localhost:8080/",
          "height": 518
        },
        "outputId": "8dd7ce21-ac7e-428f-afc8-5534244475db"
      },
      "outputs": [
        {
          "output_type": "stream",
          "name": "stdout",
          "text": [
            "[('물떼새', 109), ('꼬마', 101), ('탐조', 14), ('할미', 11), ('희다', 9), ('순천만', 6), ('하다', 6), ('담다', 6), ('검다', 6), ('짝짓기', 6)]\n"
          ]
        },
        {
          "output_type": "display_data",
          "data": {
            "text/plain": [
              "<Figure size 1000x600 with 1 Axes>"
            ],
            "image/png": "[encoded data removed]"
          },
          "metadata": {}
        }
      ],
      "source": [
        "import pandas as pd\n",
        "\n",
        "# 1.텍스트 말뭉치(corpus) 데이터 지정하기\n",
        "corpus = df['제목'].to_list()\n",
        "# print(corpus)\n",
        "\n",
        "# 2.말뭉치를 토큰화하여 빈도수 가져오기\n",
        "feature_name, count = get_wordTokenCount(corpus)\n",
        "\n",
        "# 3.단어(토큰) 빈도수 막대 그래프 그리기(상위 10개)\n",
        "# draw_wordTokenCountGraph(feature_name[:10], count[:10])\n",
        "\n",
        "# 3.워드 클라우드 만들기\n",
        "make_wordcloud(feature_name, count)"
      ]
    },
    {
      "cell_type": "markdown",
      "id": "Ajcnidsqs2hR",
      "metadata": {
        "id": "Ajcnidsqs2hR"
      },
      "source": [
        "\n",
        "\n",
        "---\n",
        "\n"
      ]
    },
    {
      "cell_type": "markdown",
      "id": "59fa45de",
      "metadata": {
        "id": "59fa45de"
      },
      "source": [
        "### <a name=\"3)웹이미지수집하기\">3) 웹 이미지 수집하기</a>"
      ]
    },
    {
      "cell_type": "markdown",
      "id": "44d3fd31",
      "metadata": {
        "id": "44d3fd31"
      },
      "source": [
        "#### 1.웹 이미지 화면에 출력하기"
      ]
    },
    {
      "cell_type": "code",
      "execution_count": 44,
      "id": "337a091d",
      "metadata": {
        "id": "337a091d",
        "scrolled": true,
        "colab": {
          "base_uri": "https://localhost:8080/",
          "height": 620
        },
        "outputId": "5447d924-2216-4845-c19b-a87db21561a7"
      },
      "outputs": [
        {
          "output_type": "execute_result",
          "data": {
            "text/html": [
              "<img src=\"\thttps://dnwm9zq2dr65n.cloudfront.net/production/observation/2021/08/30/crop/21699-1h05bjx.tukx.jpg\"/>"
            ],
            "text/plain": [
              "<IPython.core.display.Image object>"
            ]
          },
          "metadata": {},
          "execution_count": 44
        }
      ],
      "source": [
        "from IPython.display import Image\n",
        "Image(url='\thttps://dnwm9zq2dr65n.cloudfront.net/production/observation/2021/08/30/crop/21699-1h05bjx.tukx.jpg')"
      ]
    },
    {
      "cell_type": "code",
      "source": [],
      "metadata": {
        "id": "t0ZbPR4Oaatx"
      },
      "id": "t0ZbPR4Oaatx",
      "execution_count": null,
      "outputs": []
    },
    {
      "cell_type": "markdown",
      "id": "0680e362",
      "metadata": {
        "id": "0680e362"
      },
      "source": [
        "#### 2.웹 이미지 파일로 저장하기"
      ]
    },
    {
      "cell_type": "code",
      "execution_count": 47,
      "id": "a580299b",
      "metadata": {
        "id": "a580299b",
        "colab": {
          "base_uri": "https://localhost:8080/"
        },
        "outputId": "6bd658a2-fa4e-494e-cd86-c2eddea45746"
      },
      "outputs": [
        {
          "output_type": "stream",
          "name": "stdout",
          "text": [
            "<Response [200]>\n",
            "<Response [200]>\n"
          ]
        }
      ],
      "source": [
        "import requests\n",
        "from io import BytesIO\n",
        "from PIL import Image\n",
        "\n",
        "# 다운받을 이미지 url\n",
        "urls = [\n",
        "    \"https://dnwm9zq2dr65n.cloudfront.net/production/observation/2021/08/30/crop/21699-1h05bjx.tukx.jpg\",\n",
        "    \"https://naturing-s3-tokyo.s3-ap-northeast-1.amazonaws.com/production/observation/2023/04/30/crop/10843-n8nknb.i854p.jpg\"\n",
        "]\n",
        "# 파일로 저장하기\n",
        "for idx, url in enumerate(urls):\n",
        "    res = requests.get(url)   # url 요청\n",
        "    print(res)\n",
        "    img = Image.open(BytesIO(res.content))    # 응답결과(res.content)바이트파일 이미지 파일로 오픈\n",
        "    img.save(f'./testimg_{idx}.png', 'png')   # 'png'이미지로(만) 저장"
      ]
    },
    {
      "cell_type": "markdown",
      "id": "cfdf3dbf",
      "metadata": {
        "id": "cfdf3dbf"
      },
      "source": [
        "#### [실습] : 웹 이미지 수집하기\n",
        "- 앞에서 저장한 쇼핑 목록에 있는 URL을 이용하여 이미지 저장하기"
      ]
    },
    {
      "cell_type": "code",
      "execution_count": 51,
      "id": "9cc4ce14",
      "metadata": {
        "id": "9cc4ce14",
        "colab": {
          "base_uri": "https://localhost:8080/"
        },
        "outputId": "bfd527bc-8895-4e2b-8164-8f9337355d7e"
      },
      "outputs": [
        {
          "output_type": "stream",
          "name": "stdout",
          "text": [
            "읽은 파일명: ./naver_image_꼬마물떼새.csv\n",
            "이미지 폴더 위치 : ./download/\n",
            "[01] : https://upload.wikimedia.org/wikipedia/commons/4/49/Charadrius_dubius_4_%28Marek_Szczepanek%29.jpg\n",
            "[01] : Error downloading image from https://upload.wikimedia.org/wikipedia/commons/4/49/Charadrius_dubius_4_%28Marek_Szczepanek%29.jpg: cannot identify image file <_io.BytesIO object at 0x78205dfb2f20>\n",
            "[02] : https://naturing-s3-tokyo.s3-ap-northeast-1.amazonaws.com/production/observation/2022/06/06/crop/26687-11wjyjn.4hhmg.jpg\n",
            "[03] : https://dnwm9zq2dr65n.cloudfront.net/production/observation/2022/05/01/crop/22843-7r3s13.aylj7.jpg\n",
            "[04] : https://dnwm9zq2dr65n.cloudfront.net/production/observation/2021/08/30/crop/21699-1h05bjx.tukx.jpg\n",
            "[05] : https://naturing-s3-tokyo.s3-ap-northeast-1.amazonaws.com/production/observation/2023/04/30/crop/10843-n8nknb.i854p.jpg\n",
            "[06] : https://thumb2.gettyimageskorea.com/image_preview/700/202303/MBRF/MBRF23009976.jpg\n",
            "[07] : https://static.inaturalist.org/photos/265568308/large.jpg\n",
            "[08] : https://naturing-s3-tokyo.s3-ap-northeast-1.amazonaws.com/production/observation/2022/06/11/crop/natureobserve_0611234314503_31765_962_crop.jpg\n",
            "[09] : https://thumb2.gettyimageskorea.com/image_preview/700/202303/MBRF/MBRF23009985.jpg\n",
            "[10] : https://naturing-s3-tokyo.s3-ap-northeast-1.amazonaws.com/production/observation/2021/03/22/crop/22790-evttrz.1y8pw.jpg\n",
            "총 다운로드 건수: 9\n"
          ]
        }
      ],
      "source": [
        "# 이미지 다운로드 하기\n",
        "import pandas as pd\n",
        "import requests\n",
        "from io import BytesIO\n",
        "from PIL import Image\n",
        "import time\n",
        "import os\n",
        "\n",
        "# 자신에게 맞게 폴더/파일 위치 정보를 수정한다.\n",
        "FILE = f'./naver_image_꼬마물떼새.csv'  # 앞에서 자신이 검색한 이미지 파일\n",
        "ImgFolder = f'./download/'      # 다운받을 이미지 폴더\n",
        "MAX = 10                              # 이미지 파일 다운로드 건수\n",
        "\n",
        "def getImageUrl(file):\n",
        "    print(f'읽은 파일명: {file}')\n",
        "    df = pd.read_csv(file, encoding='utf-8') # 이미지가 있는 쇼핑 파일 불러오기\n",
        "    return df['링크'].to_list()\n",
        "\n",
        "def createDirectory(directory): # 다운받을 이미지 폴더 만들기\n",
        "    try:\n",
        "        if not os.path.exists(directory):\n",
        "            print(f'{directory} 폴더가 생성되었습니다.')\n",
        "            os.makedirs(directory)\n",
        "        print(f'이미지 폴더 위치 : {directory}')\n",
        "    except OSError:\n",
        "        print(\"Error: Failed to create the directory.\")\n",
        "\n",
        "\n",
        "#이미지를 열 때 발생하는 오류가 발생하면 해당 이미지를 건너뛰고\n",
        "#다음 이미지를 다운로드하도록 할 수 있습니다. 수정된 코드임\n",
        "\n",
        "def downloadImageFile(urls, imgfolder):\n",
        "    start = time.time()             # 이미지 다운로드 속도 time check\n",
        "    success_count = 0               # 다운로드 성공한 이미지 수\n",
        "    for idx, url in enumerate(urls):\n",
        "        if idx == MAX:\n",
        "            break  # MAX 건수만 처리하기\n",
        "        try:\n",
        "            res = requests.get(url)     # request.get 요청\n",
        "            print(f'[{idx+1:0>2}] : {url}')  # 이미지 다운로드 시간 체크\n",
        "            img = Image.open(BytesIO(res.content))  #Img open\n",
        "            img.save(f'{imgfolder}testimage_{idx}.png', 'png')\n",
        "            success_count += 1\n",
        "        except Exception as e:\n",
        "            print(f'[{idx+1:0>2}] : Error downloading image from {url}: {e}')\n",
        "    return success_count\n",
        "\n",
        "\n",
        "\n",
        "'''def downloadImageFile(urls, imgfolder):\n",
        "    start = time.time()             # 이미지 다운로드 속도 time check\n",
        "    for idx, url in enumerate(urls):\n",
        "        if idx == MAX:\n",
        "            break  # MAX 건수만 처리하기\n",
        "        res = requests.get(url)     # request.get 요청\n",
        "#         print(f'[{idx+1:2>}][{time.time() - start}] : {url}')  # 이미지 다운로드 시간 체크\n",
        "        print(f'[{idx+1:0>2}] : {url}')  # 이미지 다운로드 시간 체크\n",
        "        img = Image.open(BytesIO(res.content))  #Img open\n",
        "        img.save(f'{imgfolder}testimage_{idx}.png', 'png')\n",
        "    return idx'''\n",
        "\n",
        "\n",
        "urls = getImageUrl(FILE)                # 이미지 URL 목록 가져오기\n",
        "createDirectory(ImgFolder)              # 다운받을 이미지 폴더 만들기\n",
        "totalcnt = downloadImageFile(urls, ImgFolder)      # 이미지 다운로드하기\n",
        "print(f'총 다운로드 건수: {totalcnt}')\n"
      ]
    },
    {
      "cell_type": "markdown",
      "id": "fb18b237",
      "metadata": {
        "id": "fb18b237"
      },
      "source": [
        "---------------------------"
      ]
    },
    {
      "cell_type": "markdown",
      "id": "dd06d7e8",
      "metadata": {
        "id": "dd06d7e8"
      },
      "source": [
        "끝!"
      ]
    }
  ],
  "metadata": {
    "colab": {
      "provenance": [],
      "include_colab_link": true
    },
    "kernelspec": {
      "display_name": "Python 3 (ipykernel)",
      "language": "python",
      "name": "python3"
    },
    "language_info": {
      "codemirror_mode": {
        "name": "ipython",
        "version": 3
      },
      "file_extension": ".py",
      "mimetype": "text/x-python",
      "name": "python",
      "nbconvert_exporter": "python",
      "pygments_lexer": "ipython3",
      "version": "3.12.2"
    }
  },
  "nbformat": 4,
  "nbformat_minor": 5
}