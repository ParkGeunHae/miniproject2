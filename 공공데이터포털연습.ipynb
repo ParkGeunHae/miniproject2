{
  "nbformat": 4,
  "nbformat_minor": 0,
  "metadata": {
    "colab": {
      "provenance": [],
      "authorship_tag": "ABX9TyOpIAOHsOlULnKlP3F+VJAc",
      "include_colab_link": true
    },
    "kernelspec": {
      "name": "python3",
      "display_name": "Python 3"
    },
    "language_info": {
      "name": "python"
    }
  },
  "cells": [
    {
      "cell_type": "markdown",
      "metadata": {
        "id": "view-in-github",
        "colab_type": "text"
      },
      "source": [
        "<a href=\"https://colab.research.google.com/github/ParkGeunHae/miniproject2/blob/main/%EA%B3%B5%EA%B3%B5%EB%8D%B0%EC%9D%B4%ED%84%B0%ED%8F%AC%ED%84%B8%EC%97%B0%EC%8A%B5.ipynb\" target=\"_parent\"><img src=\"https://colab.research.google.com/assets/colab-badge.svg\" alt=\"Open In Colab\"/></a>"
      ]
    },
    {
      "cell_type": "code",
      "source": [
        "!pip install django"
      ],
      "metadata": {
        "colab": {
          "base_uri": "https://localhost:8080/"
        },
        "id": "3CuOmacVhn0B",
        "outputId": "f67d21bf-e8fa-48be-d4b6-23555f9f37a8"
      },
      "execution_count": 14,
      "outputs": [
        {
          "output_type": "stream",
          "name": "stdout",
          "text": [
            "Collecting django\n",
            "  Downloading Django-5.0.4-py3-none-any.whl (8.2 MB)\n",
            "\u001b[2K     \u001b[90m━━━━━━━━━━━━━━━━━━━━━━━━━━━━━━━━━━━━━━━━\u001b[0m \u001b[32m8.2/8.2 MB\u001b[0m \u001b[31m23.0 MB/s\u001b[0m eta \u001b[36m0:00:00\u001b[0m\n",
            "\u001b[?25hCollecting asgiref<4,>=3.7.0 (from django)\n",
            "  Downloading asgiref-3.8.1-py3-none-any.whl (23 kB)\n",
            "Requirement already satisfied: sqlparse>=0.3.1 in /usr/local/lib/python3.10/dist-packages (from django) (0.5.0)\n",
            "Requirement already satisfied: typing-extensions>=4 in /usr/local/lib/python3.10/dist-packages (from asgiref<4,>=3.7.0->django) (4.11.0)\n",
            "Installing collected packages: asgiref, django\n",
            "Successfully installed asgiref-3.8.1 django-5.0.4\n"
          ]
        }
      ]
    },
    {
      "cell_type": "code",
      "source": [
        "!pip install simplejson"
      ],
      "metadata": {
        "colab": {
          "base_uri": "https://localhost:8080/"
        },
        "id": "8rheHLZkhCmb",
        "outputId": "1ba4bcf7-a491-487b-965d-21b8a109df40"
      },
      "execution_count": 9,
      "outputs": [
        {
          "output_type": "stream",
          "name": "stdout",
          "text": [
            "Collecting simplejson\n",
            "  Downloading simplejson-3.19.2-cp310-cp310-manylinux_2_5_x86_64.manylinux1_x86_64.manylinux_2_17_x86_64.manylinux2014_x86_64.whl (137 kB)\n",
            "\u001b[?25l     \u001b[90m━━━━━━━━━━━━━━━━━━━━━━━━━━━━━━━━━━━━━━━━\u001b[0m \u001b[32m0.0/137.9 kB\u001b[0m \u001b[31m?\u001b[0m eta \u001b[36m-:--:--\u001b[0m\r\u001b[2K     \u001b[90m━━━━━━━━━━━━━━━━━━━━━━━━━━━━━━━━━━━━━━━━\u001b[0m \u001b[32m137.9/137.9 kB\u001b[0m \u001b[31m4.2 MB/s\u001b[0m eta \u001b[36m0:00:00\u001b[0m\n",
            "\u001b[?25hInstalling collected packages: simplejson\n",
            "Successfully installed simplejson-3.19.2\n"
          ]
        }
      ]
    },
    {
      "cell_type": "code",
      "source": [
        "!pip install jason"
      ],
      "metadata": {
        "colab": {
          "base_uri": "https://localhost:8080/"
        },
        "id": "DrITAOhKgVph",
        "outputId": "d907545e-52a1-4b4f-8be1-2d00fee63e18"
      },
      "execution_count": 11,
      "outputs": [
        {
          "output_type": "stream",
          "name": "stdout",
          "text": [
            "Requirement already satisfied: jason in /usr/local/lib/python3.10/dist-packages (0.1.7)\n"
          ]
        }
      ]
    },
    {
      "cell_type": "code",
      "execution_count": 15,
      "metadata": {
        "id": "QP8BKwh2dUU1"
      },
      "outputs": [],
      "source": [
        "import jason\n",
        "import urllib.request\n",
        "\n",
        "key='발급받은 인증키'\n",
        "\n",
        "url=\n",
        "json_page=urllib.request.urlopen(url)\n",
        "json_data=json_page.read().decode('utf-8')\n",
        "json_array=json.loads(json_data)"
      ]
    },
    {
      "cell_type": "code",
      "source": [
        "import requests\n",
        "\n",
        "# API 엔드포인트\n",
        "url = 'https://api.odcloud.kr/api/15119440/v1/uddi:6259d073-3eb6-46df-ada6-f271911d6bb1'\n",
        "\n",
        "# 인증키\n",
        "auth_key = 'h5zZ7LhlxDU6azj/tuBNV5frlw5JN8iOuM9hyjOrZbjCEH9pL+if88MbJZcvIwP1xWNy3Bjs4XI9tsiO0o0veA=='\n",
        "\n",
        "# 매개변수 설정\n",
        "params = {\n",
        "    'page': 1,\n",
        "    'perPage': 10,\n",
        "    'returnType': 'json'\n",
        "}\n",
        "\n",
        "# API 요청 보내기\n",
        "headers = {'Authorization': 'Bearer ' + auth_key}\n",
        "response = requests.get(url, params=params, headers=headers)\n",
        "\n",
        "# 응답 처리\n",
        "if response.status_code == 200:\n",
        "    data = response.json()\n",
        "    print(data)  # 결과 확인\n",
        "else:\n",
        "    print('Error:', response.status_code)\n"
      ],
      "metadata": {
        "colab": {
          "base_uri": "https://localhost:8080/"
        },
        "id": "RCiU1tmB3yV_",
        "outputId": "4458058b-f9c8-4613-903c-8c6ca770589f"
      },
      "execution_count": 29,
      "outputs": [
        {
          "output_type": "stream",
          "name": "stdout",
          "text": [
            "Error: 401\n"
          ]
        }
      ]
    }
  ]
}